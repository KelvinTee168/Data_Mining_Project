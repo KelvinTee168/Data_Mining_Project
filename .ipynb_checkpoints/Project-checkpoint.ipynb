{
 "cells": [
  {
   "cell_type": "code",
   "execution_count": 1,
   "id": "aa697554-965d-40fc-9f34-b0d3744a2f76",
   "metadata": {},
   "outputs": [],
   "source": [
    "import numpy as np\n",
    "import matplotlib.pyplot as plt\n",
    "import seaborn as sns\n",
    "import pandas as pd\n",
    "from sklearn.model_selection import train_test_split\n",
    "\n",
    "from sklearn.cluster import KMeans\n",
    "\n",
    "from apyori import apriori\n",
    "\n",
    "from sklearn import preprocessing \n",
    "from sklearn.preprocessing import LabelEncoder\n",
    "from collections import defaultdict\n",
    "\n",
    "from sklearn.ensemble import RandomForestClassifier\n",
    "from boruta import BorutaPy\n",
    "from sklearn.feature_selection import RFECV\n",
    "\n",
    "from sklearn.preprocessing import MinMaxScaler\n",
    "\n",
    "import warnings\n",
    "warnings.filterwarnings('ignore')\n",
    "\n",
    "from sklearn.naive_bayes import GaussianNB\n",
    "from sklearn.metrics import confusion_matrix\n",
    "from sklearn.metrics import accuracy_score, precision_score, recall_score, f1_score\n",
    "from sklearn.metrics import roc_curve\n",
    "from sklearn.metrics import roc_auc_score\n",
    "from sklearn.metrics import precision_recall_curve\n",
    "\n",
    "from sklearn.ensemble import RandomForestClassifier\n",
    "\n",
    "from sklearn.neighbors import KNeighborsClassifier\n",
    "\n",
    "from imblearn.over_sampling import SMOTE"
   ]
  },
  {
   "cell_type": "code",
   "execution_count": 2,
   "id": "df142b2f-645f-457a-821d-01f9206cf775",
   "metadata": {},
   "outputs": [
    {
     "data": {
      "text/html": [
       "<div>\n",
       "<style scoped>\n",
       "    .dataframe tbody tr th:only-of-type {\n",
       "        vertical-align: middle;\n",
       "    }\n",
       "\n",
       "    .dataframe tbody tr th {\n",
       "        vertical-align: top;\n",
       "    }\n",
       "\n",
       "    .dataframe thead th {\n",
       "        text-align: right;\n",
       "    }\n",
       "</style>\n",
       "<table border=\"1\" class=\"dataframe\">\n",
       "  <thead>\n",
       "    <tr style=\"text-align: right;\">\n",
       "      <th></th>\n",
       "      <th>Date</th>\n",
       "      <th>Time</th>\n",
       "      <th>Race</th>\n",
       "      <th>Gender</th>\n",
       "      <th>Body_Size</th>\n",
       "      <th>Age_Range</th>\n",
       "      <th>With_Kids</th>\n",
       "      <th>Kids_Category</th>\n",
       "      <th>Basket_Size</th>\n",
       "      <th>Basket_colour</th>\n",
       "      <th>...</th>\n",
       "      <th>shirt_type</th>\n",
       "      <th>Pants_Colour</th>\n",
       "      <th>pants_type</th>\n",
       "      <th>Wash_Item</th>\n",
       "      <th>Washer_No</th>\n",
       "      <th>Dryer_No</th>\n",
       "      <th>Spectacles</th>\n",
       "      <th>latitude</th>\n",
       "      <th>longitude</th>\n",
       "      <th>Num_of_Baskets</th>\n",
       "    </tr>\n",
       "  </thead>\n",
       "  <tbody>\n",
       "    <tr>\n",
       "      <th>0</th>\n",
       "      <td>19/10/2015</td>\n",
       "      <td>20:17:50</td>\n",
       "      <td>malay</td>\n",
       "      <td>male</td>\n",
       "      <td>moderate</td>\n",
       "      <td>28.0</td>\n",
       "      <td>yes</td>\n",
       "      <td>young</td>\n",
       "      <td>big</td>\n",
       "      <td>red</td>\n",
       "      <td>...</td>\n",
       "      <td>short_sleeve</td>\n",
       "      <td>black</td>\n",
       "      <td>short</td>\n",
       "      <td>clothes</td>\n",
       "      <td>3</td>\n",
       "      <td>10</td>\n",
       "      <td>no</td>\n",
       "      <td>2.912316</td>\n",
       "      <td>101.657948</td>\n",
       "      <td>1.0</td>\n",
       "    </tr>\n",
       "    <tr>\n",
       "      <th>1</th>\n",
       "      <td>19/10/2015</td>\n",
       "      <td>20:28:42</td>\n",
       "      <td>NaN</td>\n",
       "      <td>male</td>\n",
       "      <td>thin</td>\n",
       "      <td>32.0</td>\n",
       "      <td>no</td>\n",
       "      <td>no_kids</td>\n",
       "      <td>big</td>\n",
       "      <td>NaN</td>\n",
       "      <td>...</td>\n",
       "      <td>short_sleeve</td>\n",
       "      <td>blue_jeans</td>\n",
       "      <td>long</td>\n",
       "      <td>NaN</td>\n",
       "      <td>6</td>\n",
       "      <td>9</td>\n",
       "      <td>no</td>\n",
       "      <td>2.922506</td>\n",
       "      <td>101.643129</td>\n",
       "      <td>3.0</td>\n",
       "    </tr>\n",
       "    <tr>\n",
       "      <th>2</th>\n",
       "      <td>19/10/2015</td>\n",
       "      <td>20:58:31</td>\n",
       "      <td>malay</td>\n",
       "      <td>female</td>\n",
       "      <td>moderate</td>\n",
       "      <td>30.0</td>\n",
       "      <td>no</td>\n",
       "      <td>no_kids</td>\n",
       "      <td>big</td>\n",
       "      <td>blue</td>\n",
       "      <td>...</td>\n",
       "      <td>short_sleeve</td>\n",
       "      <td>black</td>\n",
       "      <td>long</td>\n",
       "      <td>NaN</td>\n",
       "      <td>4</td>\n",
       "      <td>10</td>\n",
       "      <td>no</td>\n",
       "      <td>2.935533</td>\n",
       "      <td>101.737170</td>\n",
       "      <td>1.0</td>\n",
       "    </tr>\n",
       "    <tr>\n",
       "      <th>3</th>\n",
       "      <td>19/10/2015</td>\n",
       "      <td>21:31:28</td>\n",
       "      <td>indian</td>\n",
       "      <td>male</td>\n",
       "      <td>thin</td>\n",
       "      <td>51.0</td>\n",
       "      <td>no</td>\n",
       "      <td>no_kids</td>\n",
       "      <td>NaN</td>\n",
       "      <td>black</td>\n",
       "      <td>...</td>\n",
       "      <td>short_sleeve</td>\n",
       "      <td>yellow</td>\n",
       "      <td>short</td>\n",
       "      <td>clothes</td>\n",
       "      <td>5</td>\n",
       "      <td>9</td>\n",
       "      <td>no</td>\n",
       "      <td>2.949924</td>\n",
       "      <td>101.637069</td>\n",
       "      <td>1.0</td>\n",
       "    </tr>\n",
       "    <tr>\n",
       "      <th>4</th>\n",
       "      <td>19/10/2015</td>\n",
       "      <td>21:40:28</td>\n",
       "      <td>indian</td>\n",
       "      <td>male</td>\n",
       "      <td>NaN</td>\n",
       "      <td>34.0</td>\n",
       "      <td>no</td>\n",
       "      <td>no_kids</td>\n",
       "      <td>big</td>\n",
       "      <td>blue</td>\n",
       "      <td>...</td>\n",
       "      <td>NaN</td>\n",
       "      <td>white</td>\n",
       "      <td>long</td>\n",
       "      <td>clothes</td>\n",
       "      <td>3</td>\n",
       "      <td>9</td>\n",
       "      <td>NaN</td>\n",
       "      <td>2.903530</td>\n",
       "      <td>101.661249</td>\n",
       "      <td>3.0</td>\n",
       "    </tr>\n",
       "    <tr>\n",
       "      <th>...</th>\n",
       "      <td>...</td>\n",
       "      <td>...</td>\n",
       "      <td>...</td>\n",
       "      <td>...</td>\n",
       "      <td>...</td>\n",
       "      <td>...</td>\n",
       "      <td>...</td>\n",
       "      <td>...</td>\n",
       "      <td>...</td>\n",
       "      <td>...</td>\n",
       "      <td>...</td>\n",
       "      <td>...</td>\n",
       "      <td>...</td>\n",
       "      <td>...</td>\n",
       "      <td>...</td>\n",
       "      <td>...</td>\n",
       "      <td>...</td>\n",
       "      <td>...</td>\n",
       "      <td>...</td>\n",
       "      <td>...</td>\n",
       "      <td>...</td>\n",
       "    </tr>\n",
       "    <tr>\n",
       "      <th>3995</th>\n",
       "      <td>2016-01-24</td>\n",
       "      <td>21:45:06</td>\n",
       "      <td>foreigner</td>\n",
       "      <td>male</td>\n",
       "      <td>moderate</td>\n",
       "      <td>30.0</td>\n",
       "      <td>yes</td>\n",
       "      <td>no_kids</td>\n",
       "      <td>small</td>\n",
       "      <td>yellow</td>\n",
       "      <td>...</td>\n",
       "      <td>short_sleeve</td>\n",
       "      <td>white</td>\n",
       "      <td>long</td>\n",
       "      <td>blankets</td>\n",
       "      <td>6</td>\n",
       "      <td>7</td>\n",
       "      <td>yes</td>\n",
       "      <td>3.082212</td>\n",
       "      <td>101.644878</td>\n",
       "      <td>2.0</td>\n",
       "    </tr>\n",
       "    <tr>\n",
       "      <th>3996</th>\n",
       "      <td>2015-12-26</td>\n",
       "      <td>01:48:15</td>\n",
       "      <td>malay</td>\n",
       "      <td>male</td>\n",
       "      <td>moderate</td>\n",
       "      <td>24.0</td>\n",
       "      <td>yes</td>\n",
       "      <td>baby</td>\n",
       "      <td>small</td>\n",
       "      <td>green</td>\n",
       "      <td>...</td>\n",
       "      <td>long sleeve</td>\n",
       "      <td>black</td>\n",
       "      <td>short</td>\n",
       "      <td>clothes</td>\n",
       "      <td>4</td>\n",
       "      <td>10</td>\n",
       "      <td>yes</td>\n",
       "      <td>3.118138</td>\n",
       "      <td>101.677315</td>\n",
       "      <td>3.0</td>\n",
       "    </tr>\n",
       "    <tr>\n",
       "      <th>3997</th>\n",
       "      <td>2015-12-07</td>\n",
       "      <td>01:42:32</td>\n",
       "      <td>foreigner</td>\n",
       "      <td>male</td>\n",
       "      <td>thin</td>\n",
       "      <td>27.0</td>\n",
       "      <td>yes</td>\n",
       "      <td>no_kids</td>\n",
       "      <td>small</td>\n",
       "      <td>blue</td>\n",
       "      <td>...</td>\n",
       "      <td>long sleeve</td>\n",
       "      <td>green</td>\n",
       "      <td>short</td>\n",
       "      <td>clothes</td>\n",
       "      <td>4</td>\n",
       "      <td>9</td>\n",
       "      <td>no</td>\n",
       "      <td>3.101051</td>\n",
       "      <td>101.643060</td>\n",
       "      <td>1.0</td>\n",
       "    </tr>\n",
       "    <tr>\n",
       "      <th>3998</th>\n",
       "      <td>2016-02-10</td>\n",
       "      <td>00:24:23</td>\n",
       "      <td>indian</td>\n",
       "      <td>female</td>\n",
       "      <td>thin</td>\n",
       "      <td>18.0</td>\n",
       "      <td>yes</td>\n",
       "      <td>baby</td>\n",
       "      <td>big</td>\n",
       "      <td>black</td>\n",
       "      <td>...</td>\n",
       "      <td>short_sleeve</td>\n",
       "      <td>blue</td>\n",
       "      <td>long</td>\n",
       "      <td>blankets</td>\n",
       "      <td>6</td>\n",
       "      <td>10</td>\n",
       "      <td>no</td>\n",
       "      <td>3.136530</td>\n",
       "      <td>101.699091</td>\n",
       "      <td>1.0</td>\n",
       "    </tr>\n",
       "    <tr>\n",
       "      <th>3999</th>\n",
       "      <td>2016-02-02</td>\n",
       "      <td>09:47:17</td>\n",
       "      <td>chinese</td>\n",
       "      <td>female</td>\n",
       "      <td>fat</td>\n",
       "      <td>23.0</td>\n",
       "      <td>yes</td>\n",
       "      <td>young</td>\n",
       "      <td>big</td>\n",
       "      <td>grey</td>\n",
       "      <td>...</td>\n",
       "      <td>long sleeve</td>\n",
       "      <td>white</td>\n",
       "      <td>long</td>\n",
       "      <td>blankets</td>\n",
       "      <td>4</td>\n",
       "      <td>10</td>\n",
       "      <td>yes</td>\n",
       "      <td>3.126260</td>\n",
       "      <td>101.701246</td>\n",
       "      <td>1.0</td>\n",
       "    </tr>\n",
       "  </tbody>\n",
       "</table>\n",
       "<p>4000 rows × 22 columns</p>\n",
       "</div>"
      ],
      "text/plain": [
       "            Date      Time        Race  Gender Body_Size  Age_Range With_Kids  \\\n",
       "0     19/10/2015  20:17:50       malay    male  moderate       28.0       yes   \n",
       "1     19/10/2015  20:28:42         NaN    male      thin       32.0        no   \n",
       "2     19/10/2015  20:58:31       malay  female  moderate       30.0        no   \n",
       "3     19/10/2015  21:31:28      indian    male      thin       51.0        no   \n",
       "4     19/10/2015  21:40:28      indian    male       NaN       34.0        no   \n",
       "...          ...       ...         ...     ...       ...        ...       ...   \n",
       "3995  2016-01-24  21:45:06  foreigner     male  moderate       30.0       yes   \n",
       "3996  2015-12-26  01:48:15       malay    male  moderate       24.0       yes   \n",
       "3997  2015-12-07  01:42:32  foreigner     male      thin       27.0       yes   \n",
       "3998  2016-02-10  00:24:23      indian  female      thin       18.0       yes   \n",
       "3999  2016-02-02  09:47:17     chinese  female       fat       23.0       yes   \n",
       "\n",
       "     Kids_Category Basket_Size Basket_colour  ...    shirt_type Pants_Colour  \\\n",
       "0            young         big           red  ...  short_sleeve        black   \n",
       "1          no_kids         big           NaN  ...  short_sleeve   blue_jeans   \n",
       "2          no_kids         big          blue  ...  short_sleeve        black   \n",
       "3          no_kids         NaN         black  ...  short_sleeve       yellow   \n",
       "4          no_kids         big          blue  ...           NaN        white   \n",
       "...            ...         ...           ...  ...           ...          ...   \n",
       "3995       no_kids       small        yellow  ...  short_sleeve        white   \n",
       "3996          baby       small         green  ...   long sleeve       black    \n",
       "3997       no_kids       small          blue  ...   long sleeve        green   \n",
       "3998          baby         big         black  ...  short_sleeve       blue     \n",
       "3999         young         big          grey  ...   long sleeve        white   \n",
       "\n",
       "     pants_type Wash_Item Washer_No Dryer_No  Spectacles  latitude  \\\n",
       "0         short   clothes         3       10          no  2.912316   \n",
       "1          long       NaN         6        9          no  2.922506   \n",
       "2          long       NaN         4       10          no  2.935533   \n",
       "3         short   clothes         5        9          no  2.949924   \n",
       "4          long   clothes         3        9         NaN  2.903530   \n",
       "...         ...       ...       ...      ...         ...       ...   \n",
       "3995       long  blankets         6        7         yes  3.082212   \n",
       "3996      short   clothes         4       10         yes  3.118138   \n",
       "3997      short   clothes         4        9          no  3.101051   \n",
       "3998       long  blankets         6       10          no  3.136530   \n",
       "3999       long  blankets         4       10         yes  3.126260   \n",
       "\n",
       "       longitude  Num_of_Baskets  \n",
       "0     101.657948             1.0  \n",
       "1     101.643129             3.0  \n",
       "2     101.737170             1.0  \n",
       "3     101.637069             1.0  \n",
       "4     101.661249             3.0  \n",
       "...          ...             ...  \n",
       "3995  101.644878             2.0  \n",
       "3996  101.677315             3.0  \n",
       "3997  101.643060             1.0  \n",
       "3998  101.699091             1.0  \n",
       "3999  101.701246             1.0  \n",
       "\n",
       "[4000 rows x 22 columns]"
      ]
     },
     "execution_count": 2,
     "metadata": {},
     "output_type": "execute_result"
    }
   ],
   "source": [
    "dataframe = pd.read_csv('LaundryData_2021_T2.csv')\n",
    "#showing our initial dataframe here\n",
    "dataframe"
   ]
  },
  {
   "cell_type": "code",
   "execution_count": 3,
   "id": "bd58fca6-bb83-48c5-82bb-7f96a1281319",
   "metadata": {},
   "outputs": [
    {
     "data": {
      "text/plain": [
       "Date                0\n",
       "Time                0\n",
       "Race              198\n",
       "Gender            177\n",
       "Body_Size         183\n",
       "Age_Range         143\n",
       "With_Kids         186\n",
       "Kids_Category      30\n",
       "Basket_Size       205\n",
       "Basket_colour     203\n",
       "Attire            217\n",
       "Shirt_Colour      174\n",
       "shirt_type        185\n",
       "Pants_Colour      174\n",
       "pants_type          9\n",
       "Wash_Item         181\n",
       "Washer_No           0\n",
       "Dryer_No            0\n",
       "Spectacles        209\n",
       "latitude            0\n",
       "longitude           0\n",
       "Num_of_Baskets    182\n",
       "dtype: int64"
      ]
     },
     "execution_count": 3,
     "metadata": {},
     "output_type": "execute_result"
    }
   ],
   "source": [
    "dataframe.isnull().sum()"
   ]
  },
  {
   "cell_type": "code",
   "execution_count": 4,
   "id": "0d06ea2c-9065-4b5f-b77a-8f0e223a5bcd",
   "metadata": {},
   "outputs": [
    {
     "data": {
      "text/plain": [
       "Date              0.000\n",
       "Time              0.000\n",
       "Race              4.950\n",
       "Gender            4.425\n",
       "Body_Size         4.575\n",
       "Age_Range         3.575\n",
       "With_Kids         4.650\n",
       "Kids_Category     0.750\n",
       "Basket_Size       5.125\n",
       "Basket_colour     5.075\n",
       "Attire            5.425\n",
       "Shirt_Colour      4.350\n",
       "shirt_type        4.625\n",
       "Pants_Colour      4.350\n",
       "pants_type        0.225\n",
       "Wash_Item         4.525\n",
       "Washer_No         0.000\n",
       "Dryer_No          0.000\n",
       "Spectacles        5.225\n",
       "latitude          0.000\n",
       "longitude         0.000\n",
       "Num_of_Baskets    4.550\n",
       "dtype: float64"
      ]
     },
     "execution_count": 4,
     "metadata": {},
     "output_type": "execute_result"
    }
   ],
   "source": [
    "dataframe.isnull().sum() * 100 / len(dataframe)"
   ]
  },
  {
   "cell_type": "code",
   "execution_count": 5,
   "id": "2ad733e9-d2b7-4ee9-8f03-a11c43bb54e5",
   "metadata": {},
   "outputs": [
    {
     "data": {
      "text/plain": [
       "Date               object\n",
       "Time               object\n",
       "Race               object\n",
       "Gender             object\n",
       "Body_Size          object\n",
       "Age_Range         float64\n",
       "With_Kids          object\n",
       "Kids_Category      object\n",
       "Basket_Size        object\n",
       "Basket_colour      object\n",
       "Attire             object\n",
       "Shirt_Colour       object\n",
       "shirt_type         object\n",
       "Pants_Colour       object\n",
       "pants_type         object\n",
       "Wash_Item          object\n",
       "Washer_No           int64\n",
       "Dryer_No            int64\n",
       "Spectacles         object\n",
       "latitude          float64\n",
       "longitude         float64\n",
       "Num_of_Baskets    float64\n",
       "dtype: object"
      ]
     },
     "execution_count": 5,
     "metadata": {},
     "output_type": "execute_result"
    }
   ],
   "source": [
    "dataframe.dtypes"
   ]
  },
  {
   "cell_type": "markdown",
   "id": "b15a76cf-37df-4681-9507-80950edaf596",
   "metadata": {
    "tags": []
   },
   "source": [
    "### Association Rule Mining"
   ]
  },
  {
   "cell_type": "code",
   "execution_count": 6,
   "id": "0174e780-3336-4f33-8d5f-1c26b099f7b5",
   "metadata": {},
   "outputs": [
    {
     "data": {
      "text/html": [
       "<div>\n",
       "<style scoped>\n",
       "    .dataframe tbody tr th:only-of-type {\n",
       "        vertical-align: middle;\n",
       "    }\n",
       "\n",
       "    .dataframe tbody tr th {\n",
       "        vertical-align: top;\n",
       "    }\n",
       "\n",
       "    .dataframe thead th {\n",
       "        text-align: right;\n",
       "    }\n",
       "</style>\n",
       "<table border=\"1\" class=\"dataframe\">\n",
       "  <thead>\n",
       "    <tr style=\"text-align: right;\">\n",
       "      <th></th>\n",
       "      <th>With_Kids</th>\n",
       "      <th>Attire</th>\n",
       "      <th>Shirt_Colour</th>\n",
       "      <th>shirt_type</th>\n",
       "      <th>Pants_Colour</th>\n",
       "      <th>pants_type</th>\n",
       "    </tr>\n",
       "  </thead>\n",
       "  <tbody>\n",
       "    <tr>\n",
       "      <th>0</th>\n",
       "      <td>yes</td>\n",
       "      <td>casual</td>\n",
       "      <td>blue</td>\n",
       "      <td>short_sleeve</td>\n",
       "      <td>black</td>\n",
       "      <td>short</td>\n",
       "    </tr>\n",
       "    <tr>\n",
       "      <th>1</th>\n",
       "      <td>no</td>\n",
       "      <td>casual</td>\n",
       "      <td>white</td>\n",
       "      <td>short_sleeve</td>\n",
       "      <td>blue_jeans</td>\n",
       "      <td>long</td>\n",
       "    </tr>\n",
       "    <tr>\n",
       "      <th>2</th>\n",
       "      <td>no</td>\n",
       "      <td>casual</td>\n",
       "      <td>red</td>\n",
       "      <td>short_sleeve</td>\n",
       "      <td>black</td>\n",
       "      <td>long</td>\n",
       "    </tr>\n",
       "    <tr>\n",
       "      <th>3</th>\n",
       "      <td>no</td>\n",
       "      <td>casual</td>\n",
       "      <td>black</td>\n",
       "      <td>short_sleeve</td>\n",
       "      <td>yellow</td>\n",
       "      <td>short</td>\n",
       "    </tr>\n",
       "    <tr>\n",
       "      <th>4</th>\n",
       "      <td>no</td>\n",
       "      <td>casual</td>\n",
       "      <td>blue</td>\n",
       "      <td>NaN</td>\n",
       "      <td>white</td>\n",
       "      <td>long</td>\n",
       "    </tr>\n",
       "    <tr>\n",
       "      <th>...</th>\n",
       "      <td>...</td>\n",
       "      <td>...</td>\n",
       "      <td>...</td>\n",
       "      <td>...</td>\n",
       "      <td>...</td>\n",
       "      <td>...</td>\n",
       "    </tr>\n",
       "    <tr>\n",
       "      <th>3995</th>\n",
       "      <td>yes</td>\n",
       "      <td>traditional</td>\n",
       "      <td>purple</td>\n",
       "      <td>short_sleeve</td>\n",
       "      <td>white</td>\n",
       "      <td>long</td>\n",
       "    </tr>\n",
       "    <tr>\n",
       "      <th>3996</th>\n",
       "      <td>yes</td>\n",
       "      <td>formal</td>\n",
       "      <td>black</td>\n",
       "      <td>long sleeve</td>\n",
       "      <td>black</td>\n",
       "      <td>short</td>\n",
       "    </tr>\n",
       "    <tr>\n",
       "      <th>3997</th>\n",
       "      <td>yes</td>\n",
       "      <td>casual</td>\n",
       "      <td>white</td>\n",
       "      <td>long sleeve</td>\n",
       "      <td>green</td>\n",
       "      <td>short</td>\n",
       "    </tr>\n",
       "    <tr>\n",
       "      <th>3998</th>\n",
       "      <td>yes</td>\n",
       "      <td>traditional</td>\n",
       "      <td>blue</td>\n",
       "      <td>short_sleeve</td>\n",
       "      <td>blue</td>\n",
       "      <td>long</td>\n",
       "    </tr>\n",
       "    <tr>\n",
       "      <th>3999</th>\n",
       "      <td>yes</td>\n",
       "      <td>casual</td>\n",
       "      <td>black</td>\n",
       "      <td>long sleeve</td>\n",
       "      <td>white</td>\n",
       "      <td>long</td>\n",
       "    </tr>\n",
       "  </tbody>\n",
       "</table>\n",
       "<p>4000 rows × 6 columns</p>\n",
       "</div>"
      ],
      "text/plain": [
       "     With_Kids       Attire Shirt_Colour    shirt_type Pants_Colour pants_type\n",
       "0          yes       casual         blue  short_sleeve        black      short\n",
       "1           no       casual        white  short_sleeve   blue_jeans       long\n",
       "2           no       casual          red  short_sleeve        black       long\n",
       "3           no       casual        black  short_sleeve       yellow      short\n",
       "4           no       casual         blue           NaN        white       long\n",
       "...        ...          ...          ...           ...          ...        ...\n",
       "3995       yes  traditional       purple  short_sleeve        white       long\n",
       "3996       yes       formal       black    long sleeve       black       short\n",
       "3997       yes       casual        white   long sleeve        green      short\n",
       "3998       yes  traditional         blue  short_sleeve       blue         long\n",
       "3999       yes       casual        black   long sleeve        white       long\n",
       "\n",
       "[4000 rows x 6 columns]"
      ]
     },
     "execution_count": 6,
     "metadata": {},
     "output_type": "execute_result"
    }
   ],
   "source": [
    "df = dataframe[['With_Kids', 'Attire', 'Shirt_Colour', 'shirt_type', 'Pants_Colour', 'pants_type']]\n",
    "df"
   ]
  },
  {
   "cell_type": "code",
   "execution_count": 10,
   "id": "22440bff-5a6d-43f3-955c-f02880fc42d4",
   "metadata": {},
   "outputs": [
    {
     "data": {
      "text/html": [
       "<div>\n",
       "<style scoped>\n",
       "    .dataframe tbody tr th:only-of-type {\n",
       "        vertical-align: middle;\n",
       "    }\n",
       "\n",
       "    .dataframe tbody tr th {\n",
       "        vertical-align: top;\n",
       "    }\n",
       "\n",
       "    .dataframe thead th {\n",
       "        text-align: right;\n",
       "    }\n",
       "</style>\n",
       "<table border=\"1\" class=\"dataframe\">\n",
       "  <thead>\n",
       "    <tr style=\"text-align: right;\">\n",
       "      <th></th>\n",
       "      <th>Attire_casual</th>\n",
       "      <th>Attire_formal</th>\n",
       "      <th>Attire_traditional</th>\n",
       "      <th>Shirt_Colour_black</th>\n",
       "      <th>Shirt_Colour_black</th>\n",
       "      <th>Shirt_Colour_blue</th>\n",
       "      <th>Shirt_Colour_brown</th>\n",
       "      <th>Shirt_Colour_green</th>\n",
       "      <th>Shirt_Colour_grey</th>\n",
       "      <th>Shirt_Colour_orange</th>\n",
       "      <th>...</th>\n",
       "      <th>Pants_Colour_orange</th>\n",
       "      <th>Pants_Colour_pink</th>\n",
       "      <th>Pants_Colour_purple</th>\n",
       "      <th>Pants_Colour_red</th>\n",
       "      <th>Pants_Colour_white</th>\n",
       "      <th>Pants_Colour_yellow</th>\n",
       "      <th>pants_type_long</th>\n",
       "      <th>pants_type_short</th>\n",
       "      <th>With_Kids_no</th>\n",
       "      <th>With_Kids_yes</th>\n",
       "    </tr>\n",
       "  </thead>\n",
       "  <tbody>\n",
       "    <tr>\n",
       "      <th>0</th>\n",
       "      <td>1</td>\n",
       "      <td>0</td>\n",
       "      <td>0</td>\n",
       "      <td>0</td>\n",
       "      <td>0</td>\n",
       "      <td>1</td>\n",
       "      <td>0</td>\n",
       "      <td>0</td>\n",
       "      <td>0</td>\n",
       "      <td>0</td>\n",
       "      <td>...</td>\n",
       "      <td>0</td>\n",
       "      <td>0</td>\n",
       "      <td>0</td>\n",
       "      <td>0</td>\n",
       "      <td>0</td>\n",
       "      <td>0</td>\n",
       "      <td>0</td>\n",
       "      <td>1</td>\n",
       "      <td>0</td>\n",
       "      <td>1</td>\n",
       "    </tr>\n",
       "    <tr>\n",
       "      <th>1</th>\n",
       "      <td>1</td>\n",
       "      <td>0</td>\n",
       "      <td>0</td>\n",
       "      <td>0</td>\n",
       "      <td>0</td>\n",
       "      <td>0</td>\n",
       "      <td>0</td>\n",
       "      <td>0</td>\n",
       "      <td>0</td>\n",
       "      <td>0</td>\n",
       "      <td>...</td>\n",
       "      <td>0</td>\n",
       "      <td>0</td>\n",
       "      <td>0</td>\n",
       "      <td>0</td>\n",
       "      <td>0</td>\n",
       "      <td>0</td>\n",
       "      <td>1</td>\n",
       "      <td>0</td>\n",
       "      <td>1</td>\n",
       "      <td>0</td>\n",
       "    </tr>\n",
       "    <tr>\n",
       "      <th>2</th>\n",
       "      <td>1</td>\n",
       "      <td>0</td>\n",
       "      <td>0</td>\n",
       "      <td>0</td>\n",
       "      <td>0</td>\n",
       "      <td>0</td>\n",
       "      <td>0</td>\n",
       "      <td>0</td>\n",
       "      <td>0</td>\n",
       "      <td>0</td>\n",
       "      <td>...</td>\n",
       "      <td>0</td>\n",
       "      <td>0</td>\n",
       "      <td>0</td>\n",
       "      <td>0</td>\n",
       "      <td>0</td>\n",
       "      <td>0</td>\n",
       "      <td>1</td>\n",
       "      <td>0</td>\n",
       "      <td>1</td>\n",
       "      <td>0</td>\n",
       "    </tr>\n",
       "    <tr>\n",
       "      <th>3</th>\n",
       "      <td>1</td>\n",
       "      <td>0</td>\n",
       "      <td>0</td>\n",
       "      <td>1</td>\n",
       "      <td>0</td>\n",
       "      <td>0</td>\n",
       "      <td>0</td>\n",
       "      <td>0</td>\n",
       "      <td>0</td>\n",
       "      <td>0</td>\n",
       "      <td>...</td>\n",
       "      <td>0</td>\n",
       "      <td>0</td>\n",
       "      <td>0</td>\n",
       "      <td>0</td>\n",
       "      <td>0</td>\n",
       "      <td>1</td>\n",
       "      <td>0</td>\n",
       "      <td>1</td>\n",
       "      <td>1</td>\n",
       "      <td>0</td>\n",
       "    </tr>\n",
       "    <tr>\n",
       "      <th>4</th>\n",
       "      <td>1</td>\n",
       "      <td>0</td>\n",
       "      <td>0</td>\n",
       "      <td>0</td>\n",
       "      <td>0</td>\n",
       "      <td>1</td>\n",
       "      <td>0</td>\n",
       "      <td>0</td>\n",
       "      <td>0</td>\n",
       "      <td>0</td>\n",
       "      <td>...</td>\n",
       "      <td>0</td>\n",
       "      <td>0</td>\n",
       "      <td>0</td>\n",
       "      <td>0</td>\n",
       "      <td>1</td>\n",
       "      <td>0</td>\n",
       "      <td>1</td>\n",
       "      <td>0</td>\n",
       "      <td>1</td>\n",
       "      <td>0</td>\n",
       "    </tr>\n",
       "  </tbody>\n",
       "</table>\n",
       "<p>5 rows × 36 columns</p>\n",
       "</div>"
      ],
      "text/plain": [
       "   Attire_casual  Attire_formal  Attire_traditional  Shirt_Colour_black  \\\n",
       "0              1              0                   0                   0   \n",
       "1              1              0                   0                   0   \n",
       "2              1              0                   0                   0   \n",
       "3              1              0                   0                   1   \n",
       "4              1              0                   0                   0   \n",
       "\n",
       "   Shirt_Colour_black   Shirt_Colour_blue  Shirt_Colour_brown  \\\n",
       "0                    0                  1                   0   \n",
       "1                    0                  0                   0   \n",
       "2                    0                  0                   0   \n",
       "3                    0                  0                   0   \n",
       "4                    0                  1                   0   \n",
       "\n",
       "   Shirt_Colour_green  Shirt_Colour_grey  Shirt_Colour_orange  ...  \\\n",
       "0                   0                  0                    0  ...   \n",
       "1                   0                  0                    0  ...   \n",
       "2                   0                  0                    0  ...   \n",
       "3                   0                  0                    0  ...   \n",
       "4                   0                  0                    0  ...   \n",
       "\n",
       "   Pants_Colour_orange  Pants_Colour_pink  Pants_Colour_purple  \\\n",
       "0                    0                  0                    0   \n",
       "1                    0                  0                    0   \n",
       "2                    0                  0                    0   \n",
       "3                    0                  0                    0   \n",
       "4                    0                  0                    0   \n",
       "\n",
       "   Pants_Colour_red  Pants_Colour_white  Pants_Colour_yellow  pants_type_long  \\\n",
       "0                 0                   0                    0                0   \n",
       "1                 0                   0                    0                1   \n",
       "2                 0                   0                    0                1   \n",
       "3                 0                   0                    1                0   \n",
       "4                 0                   1                    0                1   \n",
       "\n",
       "   pants_type_short  With_Kids_no  With_Kids_yes  \n",
       "0                 1             0              1  \n",
       "1                 0             1              0  \n",
       "2                 0             1              0  \n",
       "3                 1             1              0  \n",
       "4                 0             1              0  \n",
       "\n",
       "[5 rows x 36 columns]"
      ]
     },
     "execution_count": 10,
     "metadata": {},
     "output_type": "execute_result"
    }
   ],
   "source": [
    "col_list = df.columns\n",
    "df_oh = df[col_list]\n",
    "df = df.drop(col_list, 1)\n",
    "df_oh = pd.get_dummies(df_oh)\n",
    "df = pd.concat([df, df_oh], axis=1)\n",
    "df.head()"
   ]
  },
  {
   "cell_type": "code",
   "execution_count": 11,
   "id": "77285404-2e42-46ab-bbc4-52fb35645b9b",
   "metadata": {},
   "outputs": [
    {
     "data": {
      "text/plain": [
       "(4000, 36)"
      ]
     },
     "execution_count": 11,
     "metadata": {},
     "output_type": "execute_result"
    }
   ],
   "source": [
    "df.shape"
   ]
  },
  {
   "cell_type": "code",
   "execution_count": 12,
   "id": "94eb9d63-28f6-4030-a9d9-411ed425f9fa",
   "metadata": {},
   "outputs": [],
   "source": [
    "records = []\n",
    "for i in range(0, 4000):\n",
    "    records.append([str(df.columns[j]) for j in range(0, 36) if df.values[i,j] == 1])"
   ]
  },
  {
   "cell_type": "code",
   "execution_count": 13,
   "id": "ece07406-2774-4810-8047-1ab52159b9cc",
   "metadata": {},
   "outputs": [
    {
     "data": {
      "text/plain": [
       "['Attire_casual',\n",
       " 'Shirt_Colour_blue',\n",
       " 'shirt_type_short_sleeve',\n",
       " 'Pants_Colour_black',\n",
       " 'pants_type_short',\n",
       " 'With_Kids_yes']"
      ]
     },
     "execution_count": 13,
     "metadata": {},
     "output_type": "execute_result"
    }
   ],
   "source": [
    "records[0]"
   ]
  },
  {
   "cell_type": "code",
   "execution_count": 28,
   "id": "dc83c791-1b14-40b0-95e7-2c2b08b1592b",
   "metadata": {
    "tags": []
   },
   "outputs": [],
   "source": [
    "association_results = apriori(records)\n",
    "association_results = list(association_results)"
   ]
  },
  {
   "cell_type": "code",
   "execution_count": 29,
   "id": "d89a8424-352e-46b8-a0dd-725f3ab20146",
   "metadata": {},
   "outputs": [
    {
     "data": {
      "text/plain": [
       "50"
      ]
     },
     "execution_count": 29,
     "metadata": {},
     "output_type": "execute_result"
    }
   ],
   "source": [
    "len(association_results)"
   ]
  },
  {
   "cell_type": "code",
   "execution_count": 30,
   "id": "bd9b23be-ba02-469e-a4da-1ce53ca76249",
   "metadata": {},
   "outputs": [
    {
     "data": {
      "text/plain": [
       "[RelationRecord(items=frozenset({'Attire_casual'}), support=0.38275, ordered_statistics=[OrderedStatistic(items_base=frozenset(), items_add=frozenset({'Attire_casual'}), confidence=0.38275, lift=1.0)]),\n",
       " RelationRecord(items=frozenset({'Attire_formal'}), support=0.29425, ordered_statistics=[OrderedStatistic(items_base=frozenset(), items_add=frozenset({'Attire_formal'}), confidence=0.29425, lift=1.0)]),\n",
       " RelationRecord(items=frozenset({'Attire_traditional'}), support=0.26875, ordered_statistics=[OrderedStatistic(items_base=frozenset(), items_add=frozenset({'Attire_traditional'}), confidence=0.26875, lift=1.0)]),\n",
       " RelationRecord(items=frozenset({'Pants_Colour_black'}), support=0.12425, ordered_statistics=[OrderedStatistic(items_base=frozenset(), items_add=frozenset({'Pants_Colour_black'}), confidence=0.12425, lift=1.0)]),\n",
       " RelationRecord(items=frozenset({'Shirt_Colour_white'}), support=0.10975, ordered_statistics=[OrderedStatistic(items_base=frozenset(), items_add=frozenset({'Shirt_Colour_white'}), confidence=0.10975, lift=1.0)]),\n",
       " RelationRecord(items=frozenset({'With_Kids_no'}), support=0.52725, ordered_statistics=[OrderedStatistic(items_base=frozenset(), items_add=frozenset({'With_Kids_no'}), confidence=0.52725, lift=1.0)]),\n",
       " RelationRecord(items=frozenset({'With_Kids_yes'}), support=0.42625, ordered_statistics=[OrderedStatistic(items_base=frozenset(), items_add=frozenset({'With_Kids_yes'}), confidence=0.42625, lift=1.0)]),\n",
       " RelationRecord(items=frozenset({'pants_type_long'}), support=0.54175, ordered_statistics=[OrderedStatistic(items_base=frozenset(), items_add=frozenset({'pants_type_long'}), confidence=0.54175, lift=1.0)]),\n",
       " RelationRecord(items=frozenset({'pants_type_short'}), support=0.456, ordered_statistics=[OrderedStatistic(items_base=frozenset(), items_add=frozenset({'pants_type_short'}), confidence=0.456, lift=1.0)]),\n",
       " RelationRecord(items=frozenset({'shirt_type_long sleeve'}), support=0.42725, ordered_statistics=[OrderedStatistic(items_base=frozenset(), items_add=frozenset({'shirt_type_long sleeve'}), confidence=0.42725, lift=1.0)]),\n",
       " RelationRecord(items=frozenset({'shirt_type_short_sleeve'}), support=0.5265, ordered_statistics=[OrderedStatistic(items_base=frozenset(), items_add=frozenset({'shirt_type_short_sleeve'}), confidence=0.5265, lift=1.0)]),\n",
       " RelationRecord(items=frozenset({'Attire_casual', 'With_Kids_no'}), support=0.219, ordered_statistics=[OrderedStatistic(items_base=frozenset(), items_add=frozenset({'Attire_casual', 'With_Kids_no'}), confidence=0.219, lift=1.0), OrderedStatistic(items_base=frozenset({'Attire_casual'}), items_add=frozenset({'With_Kids_no'}), confidence=0.5721750489875899, lift=1.0852063518019723), OrderedStatistic(items_base=frozenset({'With_Kids_no'}), items_add=frozenset({'Attire_casual'}), confidence=0.41536273115220484, lift=1.0852063518019721)]),\n",
       " RelationRecord(items=frozenset({'With_Kids_yes', 'Attire_casual'}), support=0.14425, ordered_statistics=[OrderedStatistic(items_base=frozenset(), items_add=frozenset({'With_Kids_yes', 'Attire_casual'}), confidence=0.14425, lift=1.0), OrderedStatistic(items_base=frozenset({'Attire_casual'}), items_add=frozenset({'With_Kids_yes'}), confidence=0.3768778576094056, lift=0.884170926942887), OrderedStatistic(items_base=frozenset({'With_Kids_yes'}), items_add=frozenset({'Attire_casual'}), confidence=0.33841642228739, lift=0.884170926942887)]),\n",
       " RelationRecord(items=frozenset({'Attire_casual', 'pants_type_long'}), support=0.21475, ordered_statistics=[OrderedStatistic(items_base=frozenset(), items_add=frozenset({'Attire_casual', 'pants_type_long'}), confidence=0.21475, lift=1.0), OrderedStatistic(items_base=frozenset({'Attire_casual'}), items_add=frozenset({'pants_type_long'}), confidence=0.5610711952971914, lift=1.035664412177557), OrderedStatistic(items_base=frozenset({'pants_type_long'}), items_add=frozenset({'Attire_casual'}), confidence=0.3964005537609599, lift=1.035664412177557)]),\n",
       " RelationRecord(items=frozenset({'Attire_casual', 'pants_type_short'}), support=0.16675, ordered_statistics=[OrderedStatistic(items_base=frozenset(), items_add=frozenset({'Attire_casual', 'pants_type_short'}), confidence=0.16675, lift=1.0), OrderedStatistic(items_base=frozenset({'Attire_casual'}), items_add=frozenset({'pants_type_short'}), confidence=0.43566296538210325, lift=0.9554012398730334), OrderedStatistic(items_base=frozenset({'pants_type_short'}), items_add=frozenset({'Attire_casual'}), confidence=0.3656798245614035, lift=0.9554012398730334)]),\n",
       " RelationRecord(items=frozenset({'Attire_casual', 'shirt_type_long sleeve'}), support=0.134, ordered_statistics=[OrderedStatistic(items_base=frozenset(), items_add=frozenset({'Attire_casual', 'shirt_type_long sleeve'}), confidence=0.134, lift=1.0), OrderedStatistic(items_base=frozenset({'Attire_casual'}), items_add=frozenset({'shirt_type_long sleeve'}), confidence=0.3500979751796212, lift=0.8194218260494353), OrderedStatistic(items_base=frozenset({'shirt_type_long sleeve'}), items_add=frozenset({'Attire_casual'}), confidence=0.3136337039204213, lift=0.8194218260494351)]),\n",
       " RelationRecord(items=frozenset({'Attire_casual', 'shirt_type_short_sleeve'}), support=0.22675, ordered_statistics=[OrderedStatistic(items_base=frozenset(), items_add=frozenset({'Attire_casual', 'shirt_type_short_sleeve'}), confidence=0.22675, lift=1.0), OrderedStatistic(items_base=frozenset({'Attire_casual'}), items_add=frozenset({'shirt_type_short_sleeve'}), confidence=0.5924232527759635, lift=1.1252103566495035), OrderedStatistic(items_base=frozenset({'shirt_type_short_sleeve'}), items_add=frozenset({'Attire_casual'}), confidence=0.4306742640075974, lift=1.1252103566495033)]),\n",
       " RelationRecord(items=frozenset({'Attire_formal', 'With_Kids_no'}), support=0.14825, ordered_statistics=[OrderedStatistic(items_base=frozenset(), items_add=frozenset({'Attire_formal', 'With_Kids_no'}), confidence=0.14825, lift=1.0), OrderedStatistic(items_base=frozenset({'Attire_formal'}), items_add=frozenset({'With_Kids_no'}), confidence=0.503823279524214, lift=0.9555680977225491), OrderedStatistic(items_base=frozenset({'With_Kids_no'}), items_add=frozenset({'Attire_formal'}), confidence=0.2811759127548601, lift=0.9555680977225491)]),\n",
       " RelationRecord(items=frozenset({'With_Kids_yes', 'Attire_formal'}), support=0.135, ordered_statistics=[OrderedStatistic(items_base=frozenset(), items_add=frozenset({'With_Kids_yes', 'Attire_formal'}), confidence=0.135, lift=1.0), OrderedStatistic(items_base=frozenset({'Attire_formal'}), items_add=frozenset({'With_Kids_yes'}), confidence=0.45879354290569246, lift=1.0763484877552902), OrderedStatistic(items_base=frozenset({'With_Kids_yes'}), items_add=frozenset({'Attire_formal'}), confidence=0.31671554252199413, lift=1.07634848775529)]),\n",
       " RelationRecord(items=frozenset({'pants_type_long', 'Attire_formal'}), support=0.161, ordered_statistics=[OrderedStatistic(items_base=frozenset(), items_add=frozenset({'Attire_formal', 'pants_type_long'}), confidence=0.161, lift=1.0), OrderedStatistic(items_base=frozenset({'Attire_formal'}), items_add=frozenset({'pants_type_long'}), confidence=0.5471537807986406, lift=1.0099746761396229), OrderedStatistic(items_base=frozenset({'pants_type_long'}), items_add=frozenset({'Attire_formal'}), confidence=0.297185048454084, lift=1.0099746761396227)]),\n",
       " RelationRecord(items=frozenset({'Attire_formal', 'pants_type_short'}), support=0.13275, ordered_statistics=[OrderedStatistic(items_base=frozenset(), items_add=frozenset({'Attire_formal', 'pants_type_short'}), confidence=0.13275, lift=1.0), OrderedStatistic(items_base=frozenset({'Attire_formal'}), items_add=frozenset({'pants_type_short'}), confidence=0.45114698385726426, lift=0.9893574207396145), OrderedStatistic(items_base=frozenset({'pants_type_short'}), items_add=frozenset({'Attire_formal'}), confidence=0.2911184210526316, lift=0.9893574207396145)]),\n",
       " RelationRecord(items=frozenset({'Attire_formal', 'shirt_type_long sleeve'}), support=0.14125, ordered_statistics=[OrderedStatistic(items_base=frozenset(), items_add=frozenset({'Attire_formal', 'shirt_type_long sleeve'}), confidence=0.14125, lift=1.0), OrderedStatistic(items_base=frozenset({'Attire_formal'}), items_add=frozenset({'shirt_type_long sleeve'}), confidence=0.48003398470688186, lift=1.1235435569499868), OrderedStatistic(items_base=frozenset({'shirt_type_long sleeve'}), items_add=frozenset({'Attire_formal'}), confidence=0.3306026916325336, lift=1.1235435569499868)]),\n",
       " RelationRecord(items=frozenset({'Attire_formal', 'shirt_type_short_sleeve'}), support=0.144, ordered_statistics=[OrderedStatistic(items_base=frozenset(), items_add=frozenset({'Attire_formal', 'shirt_type_short_sleeve'}), confidence=0.144, lift=1.0), OrderedStatistic(items_base=frozenset({'Attire_formal'}), items_add=frozenset({'shirt_type_short_sleeve'}), confidence=0.4893797790994052, lift=0.9294962565990603), OrderedStatistic(items_base=frozenset({'shirt_type_short_sleeve'}), items_add=frozenset({'Attire_formal'}), confidence=0.2735042735042735, lift=0.9294962565990602)]),\n",
       " RelationRecord(items=frozenset({'Attire_traditional', 'With_Kids_no'}), support=0.129, ordered_statistics=[OrderedStatistic(items_base=frozenset(), items_add=frozenset({'Attire_traditional', 'With_Kids_no'}), confidence=0.129, lift=1.0), OrderedStatistic(items_base=frozenset({'Attire_traditional'}), items_add=frozenset({'With_Kids_no'}), confidence=0.48000000000000004, lift=0.9103840682788052), OrderedStatistic(items_base=frozenset({'With_Kids_no'}), items_add=frozenset({'Attire_traditional'}), confidence=0.2446657183499289, lift=0.9103840682788052)]),\n",
       " RelationRecord(items=frozenset({'With_Kids_yes', 'Attire_traditional'}), support=0.13, ordered_statistics=[OrderedStatistic(items_base=frozenset(), items_add=frozenset({'With_Kids_yes', 'Attire_traditional'}), confidence=0.13, lift=1.0), OrderedStatistic(items_base=frozenset({'Attire_traditional'}), items_add=frozenset({'With_Kids_yes'}), confidence=0.4837209302325582, lift=1.1348291618359136), OrderedStatistic(items_base=frozenset({'With_Kids_yes'}), items_add=frozenset({'Attire_traditional'}), confidence=0.30498533724340177, lift=1.1348291618359136)]),\n",
       " RelationRecord(items=frozenset({'pants_type_long', 'Attire_traditional'}), support=0.138, ordered_statistics=[OrderedStatistic(items_base=frozenset(), items_add=frozenset({'pants_type_long', 'Attire_traditional'}), confidence=0.138, lift=1.0), OrderedStatistic(items_base=frozenset({'Attire_traditional'}), items_add=frozenset({'pants_type_long'}), confidence=0.5134883720930233, lift=0.9478327126774774), OrderedStatistic(items_base=frozenset({'pants_type_long'}), items_add=frozenset({'Attire_traditional'}), confidence=0.254730041532072, lift=0.9478327126774773)]),\n",
       " RelationRecord(items=frozenset({'pants_type_short', 'Attire_traditional'}), support=0.13075, ordered_statistics=[OrderedStatistic(items_base=frozenset(), items_add=frozenset({'pants_type_short', 'Attire_traditional'}), confidence=0.13075, lift=1.0), OrderedStatistic(items_base=frozenset({'Attire_traditional'}), items_add=frozenset({'pants_type_short'}), confidence=0.4865116279069768, lift=1.0669114647082825), OrderedStatistic(items_base=frozenset({'pants_type_short'}), items_add=frozenset({'Attire_traditional'}), confidence=0.28673245614035087, lift=1.0669114647082822)]),\n",
       " RelationRecord(items=frozenset({'Attire_traditional', 'shirt_type_long sleeve'}), support=0.13525, ordered_statistics=[OrderedStatistic(items_base=frozenset(), items_add=frozenset({'Attire_traditional', 'shirt_type_long sleeve'}), confidence=0.13525, lift=1.0), OrderedStatistic(items_base=frozenset({'Attire_traditional'}), items_add=frozenset({'shirt_type_long sleeve'}), confidence=0.5032558139534884, lift=1.1778954100725298), OrderedStatistic(items_base=frozenset({'shirt_type_long sleeve'}), items_add=frozenset({'Attire_traditional'}), confidence=0.3165593914569924, lift=1.1778954100725298)]),\n",
       " RelationRecord(items=frozenset({'shirt_type_short_sleeve', 'Attire_traditional'}), support=0.12575, ordered_statistics=[OrderedStatistic(items_base=frozenset(), items_add=frozenset({'shirt_type_short_sleeve', 'Attire_traditional'}), confidence=0.12575, lift=1.0), OrderedStatistic(items_base=frozenset({'Attire_traditional'}), items_add=frozenset({'shirt_type_short_sleeve'}), confidence=0.4679069767441861, lift=0.888712206541664), OrderedStatistic(items_base=frozenset({'shirt_type_short_sleeve'}), items_add=frozenset({'Attire_traditional'}), confidence=0.2388414055080722, lift=0.888712206541664)]),\n",
       " RelationRecord(items=frozenset({'pants_type_long', 'With_Kids_no'}), support=0.287, ordered_statistics=[OrderedStatistic(items_base=frozenset(), items_add=frozenset({'pants_type_long', 'With_Kids_no'}), confidence=0.287, lift=1.0), OrderedStatistic(items_base=frozenset({'With_Kids_no'}), items_add=frozenset({'pants_type_long'}), confidence=0.5443338074917022, lift=1.004769372388929), OrderedStatistic(items_base=frozenset({'pants_type_long'}), items_add=frozenset({'With_Kids_no'}), confidence=0.5297646515920628, lift=1.0047693723889288)]),\n",
       " RelationRecord(items=frozenset({'pants_type_short', 'With_Kids_no'}), support=0.23825, ordered_statistics=[OrderedStatistic(items_base=frozenset(), items_add=frozenset({'pants_type_short', 'With_Kids_no'}), confidence=0.23825, lift=1.0), OrderedStatistic(items_base=frozenset({'With_Kids_no'}), items_add=frozenset({'pants_type_short'}), confidence=0.45187292555713604, lift=0.9909493981516141), OrderedStatistic(items_base=frozenset({'pants_type_short'}), items_add=frozenset({'With_Kids_no'}), confidence=0.5224780701754386, lift=0.9909493981516142)]),\n",
       " RelationRecord(items=frozenset({'shirt_type_long sleeve', 'With_Kids_no'}), support=0.214, ordered_statistics=[OrderedStatistic(items_base=frozenset(), items_add=frozenset({'With_Kids_no', 'shirt_type_long sleeve'}), confidence=0.214, lift=1.0), OrderedStatistic(items_base=frozenset({'With_Kids_no'}), items_add=frozenset({'shirt_type_long sleeve'}), confidence=0.4058795637743006, lift=0.9499814248667071), OrderedStatistic(items_base=frozenset({'shirt_type_long sleeve'}), items_add=frozenset({'With_Kids_no'}), confidence=0.5008777062609713, lift=0.949981424866707)]),\n",
       " RelationRecord(items=frozenset({'shirt_type_short_sleeve', 'With_Kids_no'}), support=0.289, ordered_statistics=[OrderedStatistic(items_base=frozenset(), items_add=frozenset({'shirt_type_short_sleeve', 'With_Kids_no'}), confidence=0.289, lift=1.0), OrderedStatistic(items_base=frozenset({'With_Kids_no'}), items_add=frozenset({'shirt_type_short_sleeve'}), confidence=0.5481270744428639, lift=1.0410770644688774), OrderedStatistic(items_base=frozenset({'shirt_type_short_sleeve'}), items_add=frozenset({'With_Kids_no'}), confidence=0.5489078822412156, lift=1.0410770644688774)]),\n",
       " RelationRecord(items=frozenset({'With_Kids_yes', 'pants_type_long'}), support=0.2275, ordered_statistics=[OrderedStatistic(items_base=frozenset(), items_add=frozenset({'With_Kids_yes', 'pants_type_long'}), confidence=0.2275, lift=1.0), OrderedStatistic(items_base=frozenset({'With_Kids_yes'}), items_add=frozenset({'pants_type_long'}), confidence=0.533724340175953, lift=0.985185676374625), OrderedStatistic(items_base=frozenset({'pants_type_long'}), items_add=frozenset({'With_Kids_yes'}), confidence=0.4199353945546839, lift=0.9851856763746251)]),\n",
       " RelationRecord(items=frozenset({'With_Kids_yes', 'pants_type_short'}), support=0.1985, ordered_statistics=[OrderedStatistic(items_base=frozenset(), items_add=frozenset({'With_Kids_yes', 'pants_type_short'}), confidence=0.1985, lift=1.0), OrderedStatistic(items_base=frozenset({'With_Kids_yes'}), items_add=frozenset({'pants_type_short'}), confidence=0.4656891495601173, lift=1.0212481350002571), OrderedStatistic(items_base=frozenset({'pants_type_short'}), items_add=frozenset({'With_Kids_yes'}), confidence=0.43530701754385964, lift=1.0212481350002571)]),\n",
       " RelationRecord(items=frozenset({'With_Kids_yes', 'shirt_type_long sleeve'}), support=0.1945, ordered_statistics=[OrderedStatistic(items_base=frozenset(), items_add=frozenset({'With_Kids_yes', 'shirt_type_long sleeve'}), confidence=0.1945, lift=1.0), OrderedStatistic(items_base=frozenset({'With_Kids_yes'}), items_add=frozenset({'shirt_type_long sleeve'}), confidence=0.4563049853372434, lift=1.068004646781143), OrderedStatistic(items_base=frozenset({'shirt_type_long sleeve'}), items_add=frozenset({'With_Kids_yes'}), confidence=0.45523698069046226, lift=1.068004646781143)]),\n",
       " RelationRecord(items=frozenset({'With_Kids_yes', 'shirt_type_short_sleeve'}), support=0.21575, ordered_statistics=[OrderedStatistic(items_base=frozenset(), items_add=frozenset({'With_Kids_yes', 'shirt_type_short_sleeve'}), confidence=0.21575, lift=1.0), OrderedStatistic(items_base=frozenset({'With_Kids_yes'}), items_add=frozenset({'shirt_type_short_sleeve'}), confidence=0.506158357771261, lift=0.9613644022246173), OrderedStatistic(items_base=frozenset({'shirt_type_short_sleeve'}), items_add=frozenset({'With_Kids_yes'}), confidence=0.40978157644824315, lift=0.9613644022246173)]),\n",
       " RelationRecord(items=frozenset({'pants_type_long', 'shirt_type_long sleeve'}), support=0.2375, ordered_statistics=[OrderedStatistic(items_base=frozenset(), items_add=frozenset({'pants_type_long', 'shirt_type_long sleeve'}), confidence=0.2375, lift=1.0), OrderedStatistic(items_base=frozenset({'pants_type_long'}), items_add=frozenset({'shirt_type_long sleeve'}), confidence=0.43839409321642825, lift=1.0260833077037523), OrderedStatistic(items_base=frozenset({'shirt_type_long sleeve'}), items_add=frozenset({'pants_type_long'}), confidence=0.5558806319485079, lift=1.0260833077037526)]),\n",
       " RelationRecord(items=frozenset({'pants_type_long', 'shirt_type_short_sleeve'}), support=0.27925, ordered_statistics=[OrderedStatistic(items_base=frozenset(), items_add=frozenset({'pants_type_long', 'shirt_type_short_sleeve'}), confidence=0.27925, lift=1.0), OrderedStatistic(items_base=frozenset({'pants_type_long'}), items_add=frozenset({'shirt_type_short_sleeve'}), confidence=0.5154591601292109, lift=0.9790297438351584), OrderedStatistic(items_base=frozenset({'shirt_type_short_sleeve'}), items_add=frozenset({'pants_type_long'}), confidence=0.5303893637226971, lift=0.9790297438351585)]),\n",
       " RelationRecord(items=frozenset({'pants_type_short', 'shirt_type_long sleeve'}), support=0.18925, ordered_statistics=[OrderedStatistic(items_base=frozenset(), items_add=frozenset({'pants_type_short', 'shirt_type_long sleeve'}), confidence=0.18925, lift=1.0), OrderedStatistic(items_base=frozenset({'pants_type_short'}), items_add=frozenset({'shirt_type_long sleeve'}), confidence=0.4150219298245614, lift=0.9713795899931219), OrderedStatistic(items_base=frozenset({'shirt_type_long sleeve'}), items_add=frozenset({'pants_type_short'}), confidence=0.44294909303686364, lift=0.971379589993122)]),\n",
       " RelationRecord(items=frozenset({'shirt_type_short_sleeve', 'pants_type_short'}), support=0.24575, ordered_statistics=[OrderedStatistic(items_base=frozenset(), items_add=frozenset({'pants_type_short', 'shirt_type_short_sleeve'}), confidence=0.24575, lift=1.0), OrderedStatistic(items_base=frozenset({'pants_type_short'}), items_add=frozenset({'shirt_type_short_sleeve'}), confidence=0.5389254385964912, lift=1.0236000733076758), OrderedStatistic(items_base=frozenset({'shirt_type_short_sleeve'}), items_add=frozenset({'pants_type_short'}), confidence=0.4667616334283001, lift=1.0236000733076758)]),\n",
       " RelationRecord(items=frozenset({'Attire_casual', 'pants_type_long', 'With_Kids_no'}), support=0.123, ordered_statistics=[OrderedStatistic(items_base=frozenset(), items_add=frozenset({'Attire_casual', 'pants_type_long', 'With_Kids_no'}), confidence=0.123, lift=1.0), OrderedStatistic(items_base=frozenset({'Attire_casual'}), items_add=frozenset({'pants_type_long', 'With_Kids_no'}), confidence=0.32135858915741344, lift=1.119716338527573), OrderedStatistic(items_base=frozenset({'With_Kids_no'}), items_add=frozenset({'Attire_casual', 'pants_type_long'}), confidence=0.2332859174964438, lift=1.0863139347913566), OrderedStatistic(items_base=frozenset({'pants_type_long'}), items_add=frozenset({'Attire_casual', 'With_Kids_no'}), confidence=0.22704199353945548, lift=1.0367214316870113), OrderedStatistic(items_base=frozenset({'Attire_casual', 'With_Kids_no'}), items_add=frozenset({'pants_type_long'}), confidence=0.5616438356164384, lift=1.0367214316870115), OrderedStatistic(items_base=frozenset({'Attire_casual', 'pants_type_long'}), items_add=frozenset({'With_Kids_no'}), confidence=0.5727590221187427, lift=1.0863139347913566), OrderedStatistic(items_base=frozenset({'pants_type_long', 'With_Kids_no'}), items_add=frozenset({'Attire_casual'}), confidence=0.4285714285714286, lift=1.1197163385275732)]),\n",
       " RelationRecord(items=frozenset({'Attire_casual', 'shirt_type_short_sleeve', 'With_Kids_no'}), support=0.13375, ordered_statistics=[OrderedStatistic(items_base=frozenset(), items_add=frozenset({'Attire_casual', 'shirt_type_short_sleeve', 'With_Kids_no'}), confidence=0.13375, lift=1.0), OrderedStatistic(items_base=frozenset({'Attire_casual'}), items_add=frozenset({'shirt_type_short_sleeve', 'With_Kids_no'}), confidence=0.3494448073154801, lift=1.2091515824065056), OrderedStatistic(items_base=frozenset({'With_Kids_no'}), items_add=frozenset({'Attire_casual', 'shirt_type_short_sleeve'}), confidence=0.2536747273589379, lift=1.118741906764886), OrderedStatistic(items_base=frozenset({'shirt_type_short_sleeve'}), items_add=frozenset({'Attire_casual', 'With_Kids_no'}), confidence=0.25403608736942074, lift=1.159982134106944), OrderedStatistic(items_base=frozenset({'Attire_casual', 'With_Kids_no'}), items_add=frozenset({'shirt_type_short_sleeve'}), confidence=0.610730593607306, lift=1.159982134106944), OrderedStatistic(items_base=frozenset({'Attire_casual', 'shirt_type_short_sleeve'}), items_add=frozenset({'With_Kids_no'}), confidence=0.5898566703417861, lift=1.118741906764886), OrderedStatistic(items_base=frozenset({'shirt_type_short_sleeve', 'With_Kids_no'}), items_add=frozenset({'Attire_casual'}), confidence=0.46280276816609, lift=1.2091515824065056)]),\n",
       " RelationRecord(items=frozenset({'Attire_casual', 'pants_type_long', 'shirt_type_short_sleeve'}), support=0.1295, ordered_statistics=[OrderedStatistic(items_base=frozenset(), items_add=frozenset({'Attire_casual', 'pants_type_long', 'shirt_type_short_sleeve'}), confidence=0.1295, lift=1.0), OrderedStatistic(items_base=frozenset({'Attire_casual'}), items_add=frozenset({'pants_type_long', 'shirt_type_short_sleeve'}), confidence=0.33834095362508165, lift=1.2116059216654669), OrderedStatistic(items_base=frozenset({'pants_type_long'}), items_add=frozenset({'Attire_casual', 'shirt_type_short_sleeve'}), confidence=0.2390401476695893, lift=1.0542013127655536), OrderedStatistic(items_base=frozenset({'shirt_type_short_sleeve'}), items_add=frozenset({'Attire_casual', 'pants_type_long'}), confidence=0.24596391263057932, lift=1.1453500006080528), OrderedStatistic(items_base=frozenset({'Attire_casual', 'pants_type_long'}), items_add=frozenset({'shirt_type_short_sleeve'}), confidence=0.6030267753201397, lift=1.1453500006080526), OrderedStatistic(items_base=frozenset({'Attire_casual', 'shirt_type_short_sleeve'}), items_add=frozenset({'pants_type_long'}), confidence=0.5711135611907387, lift=1.0542013127655538), OrderedStatistic(items_base=frozenset({'pants_type_long', 'shirt_type_short_sleeve'}), items_add=frozenset({'Attire_casual'}), confidence=0.4637421665174575, lift=1.211605921665467)]),\n",
       " RelationRecord(items=frozenset({'pants_type_long', 'With_Kids_no', 'shirt_type_long sleeve'}), support=0.1195, ordered_statistics=[OrderedStatistic(items_base=frozenset(), items_add=frozenset({'pants_type_long', 'With_Kids_no', 'shirt_type_long sleeve'}), confidence=0.1195, lift=1.0), OrderedStatistic(items_base=frozenset({'With_Kids_no'}), items_add=frozenset({'pants_type_long', 'shirt_type_long sleeve'}), confidence=0.22664770033191084, lift=0.9543061066606773), OrderedStatistic(items_base=frozenset({'pants_type_long'}), items_add=frozenset({'shirt_type_long sleeve', 'With_Kids_no'}), confidence=0.22058144900784496, lift=1.030754434616098), OrderedStatistic(items_base=frozenset({'shirt_type_long sleeve'}), items_add=frozenset({'pants_type_long', 'With_Kids_no'}), confidence=0.27969572849619656, lift=0.9745495766418), OrderedStatistic(items_base=frozenset({'pants_type_long', 'With_Kids_no'}), items_add=frozenset({'shirt_type_long sleeve'}), confidence=0.4163763066202091, lift=0.9745495766418), OrderedStatistic(items_base=frozenset({'shirt_type_long sleeve', 'With_Kids_no'}), items_add=frozenset({'pants_type_long'}), confidence=0.5584112149532711, lift=1.030754434616098), OrderedStatistic(items_base=frozenset({'pants_type_long', 'shirt_type_long sleeve'}), items_add=frozenset({'With_Kids_no'}), confidence=0.5031578947368421, lift=0.9543061066606774)]),\n",
       " RelationRecord(items=frozenset({'pants_type_long', 'shirt_type_short_sleeve', 'With_Kids_no'}), support=0.15375, ordered_statistics=[OrderedStatistic(items_base=frozenset(), items_add=frozenset({'pants_type_long', 'shirt_type_short_sleeve', 'With_Kids_no'}), confidence=0.15375, lift=1.0), OrderedStatistic(items_base=frozenset({'With_Kids_no'}), items_add=frozenset({'pants_type_long', 'shirt_type_short_sleeve'}), confidence=0.29160739687055476, lift=1.0442520926429892), OrderedStatistic(items_base=frozenset({'pants_type_long'}), items_add=frozenset({'shirt_type_short_sleeve', 'With_Kids_no'}), confidence=0.28380249192431933, lift=0.9820155429907244), OrderedStatistic(items_base=frozenset({'shirt_type_short_sleeve'}), items_add=frozenset({'pants_type_long', 'With_Kids_no'}), confidence=0.292022792022792, lift=1.0175010175010175), OrderedStatistic(items_base=frozenset({'pants_type_long', 'With_Kids_no'}), items_add=frozenset({'shirt_type_short_sleeve'}), confidence=0.5357142857142857, lift=1.0175010175010175), OrderedStatistic(items_base=frozenset({'shirt_type_short_sleeve', 'With_Kids_no'}), items_add=frozenset({'pants_type_long'}), confidence=0.5320069204152249, lift=0.9820155429907245), OrderedStatistic(items_base=frozenset({'pants_type_long', 'shirt_type_short_sleeve'}), items_add=frozenset({'With_Kids_no'}), confidence=0.5505819158460161, lift=1.0442520926429892)]),\n",
       " RelationRecord(items=frozenset({'shirt_type_short_sleeve', 'pants_type_short', 'With_Kids_no'}), support=0.134, ordered_statistics=[OrderedStatistic(items_base=frozenset(), items_add=frozenset({'pants_type_short', 'shirt_type_short_sleeve', 'With_Kids_no'}), confidence=0.134, lift=1.0), OrderedStatistic(items_base=frozenset({'With_Kids_no'}), items_add=frozenset({'pants_type_short', 'shirt_type_short_sleeve'}), confidence=0.2541488857278331, lift=1.034176544162088), OrderedStatistic(items_base=frozenset({'pants_type_short'}), items_add=frozenset({'shirt_type_short_sleeve', 'With_Kids_no'}), confidence=0.29385964912280704, lift=1.0168153948886058), OrderedStatistic(items_base=frozenset({'shirt_type_short_sleeve'}), items_add=frozenset({'pants_type_short', 'With_Kids_no'}), confidence=0.2545109211775879, lift=1.0682515054673154), OrderedStatistic(items_base=frozenset({'pants_type_short', 'With_Kids_no'}), items_add=frozenset({'shirt_type_short_sleeve'}), confidence=0.5624344176285415, lift=1.0682515054673154), OrderedStatistic(items_base=frozenset({'shirt_type_short_sleeve', 'With_Kids_no'}), items_add=frozenset({'pants_type_short'}), confidence=0.4636678200692042, lift=1.0168153948886056), OrderedStatistic(items_base=frozenset({'shirt_type_short_sleeve', 'pants_type_short'}), items_add=frozenset({'With_Kids_no'}), confidence=0.5452695829094609, lift=1.034176544162088)]),\n",
       " RelationRecord(items=frozenset({'With_Kids_yes', 'pants_type_long', 'shirt_type_long sleeve'}), support=0.10625, ordered_statistics=[OrderedStatistic(items_base=frozenset(), items_add=frozenset({'With_Kids_yes', 'pants_type_long', 'shirt_type_long sleeve'}), confidence=0.10625, lift=1.0), OrderedStatistic(items_base=frozenset({'With_Kids_yes'}), items_add=frozenset({'pants_type_long', 'shirt_type_long sleeve'}), confidence=0.24926686217008795, lift=1.049544682821423), OrderedStatistic(items_base=frozenset({'pants_type_long'}), items_add=frozenset({'With_Kids_yes', 'shirt_type_long sleeve'}), confidence=0.1961236732810337, lift=1.008347934606857), OrderedStatistic(items_base=frozenset({'shirt_type_long sleeve'}), items_add=frozenset({'With_Kids_yes', 'pants_type_long'}), confidence=0.248683440608543, lift=1.0931140246529363), OrderedStatistic(items_base=frozenset({'With_Kids_yes', 'pants_type_long'}), items_add=frozenset({'shirt_type_long sleeve'}), confidence=0.467032967032967, lift=1.093114024652936), OrderedStatistic(items_base=frozenset({'With_Kids_yes', 'shirt_type_long sleeve'}), items_add=frozenset({'pants_type_long'}), confidence=0.5462724935732648, lift=1.0083479346068571), OrderedStatistic(items_base=frozenset({'pants_type_long', 'shirt_type_long sleeve'}), items_add=frozenset({'With_Kids_yes'}), confidence=0.4473684210526316, lift=1.049544682821423)]),\n",
       " RelationRecord(items=frozenset({'With_Kids_yes', 'pants_type_long', 'shirt_type_short_sleeve'}), support=0.114, ordered_statistics=[OrderedStatistic(items_base=frozenset(), items_add=frozenset({'With_Kids_yes', 'pants_type_long', 'shirt_type_short_sleeve'}), confidence=0.114, lift=1.0), OrderedStatistic(items_base=frozenset({'With_Kids_yes'}), items_add=frozenset({'pants_type_long', 'shirt_type_short_sleeve'}), confidence=0.26744868035190617, lift=0.9577392313407562), OrderedStatistic(items_base=frozenset({'pants_type_long'}), items_add=frozenset({'With_Kids_yes', 'shirt_type_short_sleeve'}), confidence=0.2104291647438856, lift=0.9753379594154604), OrderedStatistic(items_base=frozenset({'shirt_type_short_sleeve'}), items_add=frozenset({'With_Kids_yes', 'pants_type_long'}), confidence=0.21652421652421655, lift=0.9517547979086441), OrderedStatistic(items_base=frozenset({'With_Kids_yes', 'pants_type_long'}), items_add=frozenset({'shirt_type_short_sleeve'}), confidence=0.5010989010989011, lift=0.9517547979086441), OrderedStatistic(items_base=frozenset({'With_Kids_yes', 'shirt_type_short_sleeve'}), items_add=frozenset({'pants_type_long'}), confidence=0.5283893395133257, lift=0.9753379594154605), OrderedStatistic(items_base=frozenset({'pants_type_long', 'shirt_type_short_sleeve'}), items_add=frozenset({'With_Kids_yes'}), confidence=0.40823634735899733, lift=0.9577392313407561)]),\n",
       " RelationRecord(items=frozenset({'With_Kids_yes', 'shirt_type_short_sleeve', 'pants_type_short'}), support=0.1015, ordered_statistics=[OrderedStatistic(items_base=frozenset(), items_add=frozenset({'With_Kids_yes', 'pants_type_short', 'shirt_type_short_sleeve'}), confidence=0.1015, lift=1.0), OrderedStatistic(items_base=frozenset({'With_Kids_yes'}), items_add=frozenset({'pants_type_short', 'shirt_type_short_sleeve'}), confidence=0.23812316715542522, lift=0.9689650748949145), OrderedStatistic(items_base=frozenset({'pants_type_short'}), items_add=frozenset({'With_Kids_yes', 'shirt_type_short_sleeve'}), confidence=0.2225877192982456, lift=1.0316927893313819), OrderedStatistic(items_base=frozenset({'shirt_type_short_sleeve'}), items_add=frozenset({'With_Kids_yes', 'pants_type_short'}), confidence=0.19278252611585947, lift=0.9711966051176799), OrderedStatistic(items_base=frozenset({'With_Kids_yes', 'pants_type_short'}), items_add=frozenset({'shirt_type_short_sleeve'}), confidence=0.5113350125944585, lift=0.9711966051176799), OrderedStatistic(items_base=frozenset({'With_Kids_yes', 'shirt_type_short_sleeve'}), items_add=frozenset({'pants_type_short'}), confidence=0.4704519119351101, lift=1.0316927893313819), OrderedStatistic(items_base=frozenset({'shirt_type_short_sleeve', 'pants_type_short'}), items_add=frozenset({'With_Kids_yes'}), confidence=0.4130213631739573, lift=0.9689650748949145)])]"
      ]
     },
     "execution_count": 30,
     "metadata": {},
     "output_type": "execute_result"
    }
   ],
   "source": [
    "association_results"
   ]
  },
  {
   "cell_type": "code",
   "execution_count": 32,
   "id": "186cfc61-16ff-4c1d-a048-45e48fe1e0c4",
   "metadata": {},
   "outputs": [
    {
     "name": "stdout",
     "output_type": "stream",
     "text": [
      "(Rule 1) Attire_casual\n",
      "Support: 0.383\n",
      "Confidence: 0.3827\n",
      "Lift: 1.0\n",
      "=====================================\n",
      "(Rule 2) Attire_formal\n",
      "Support: 0.294\n",
      "Confidence: 0.2943\n",
      "Lift: 1.0\n",
      "=====================================\n",
      "(Rule 3) Attire_traditional\n",
      "Support: 0.269\n",
      "Confidence: 0.2687\n",
      "Lift: 1.0\n",
      "=====================================\n",
      "(Rule 4) Pants_Colour_black\n",
      "Support: 0.124\n",
      "Confidence: 0.1242\n",
      "Lift: 1.0\n",
      "=====================================\n",
      "(Rule 5) Shirt_Colour_white\n",
      "Support: 0.11\n",
      "Confidence: 0.1098\n",
      "Lift: 1.0\n",
      "=====================================\n",
      "(Rule 6) With_Kids_no\n",
      "Support: 0.527\n",
      "Confidence: 0.5272\n",
      "Lift: 1.0\n",
      "=====================================\n",
      "(Rule 7) With_Kids_yes\n",
      "Support: 0.426\n",
      "Confidence: 0.4263\n",
      "Lift: 1.0\n",
      "=====================================\n",
      "(Rule 8) pants_type_long\n",
      "Support: 0.542\n",
      "Confidence: 0.5417\n",
      "Lift: 1.0\n",
      "=====================================\n",
      "(Rule 9) pants_type_short\n",
      "Support: 0.456\n",
      "Confidence: 0.456\n",
      "Lift: 1.0\n",
      "=====================================\n",
      "(Rule 10) shirt_type_long sleeve\n",
      "Support: 0.427\n",
      "Confidence: 0.4273\n",
      "Lift: 1.0\n",
      "=====================================\n",
      "(Rule 11) shirt_type_short_sleeve\n",
      "Support: 0.526\n",
      "Confidence: 0.5265\n",
      "Lift: 1.0\n",
      "=====================================\n",
      "(Rule 12) Attire_casual -> With_Kids_no\n",
      "Support: 0.219\n",
      "Confidence: 0.219\n",
      "Lift: 1.0\n",
      "=====================================\n",
      "(Rule 13) With_Kids_yes -> Attire_casual\n",
      "Support: 0.144\n",
      "Confidence: 0.1442\n",
      "Lift: 1.0\n",
      "=====================================\n",
      "(Rule 14) Attire_casual -> pants_type_long\n",
      "Support: 0.215\n",
      "Confidence: 0.2147\n",
      "Lift: 1.0\n",
      "=====================================\n",
      "(Rule 15) Attire_casual -> pants_type_short\n",
      "Support: 0.167\n",
      "Confidence: 0.1668\n",
      "Lift: 1.0\n",
      "=====================================\n",
      "(Rule 16) Attire_casual -> shirt_type_long sleeve\n",
      "Support: 0.134\n",
      "Confidence: 0.134\n",
      "Lift: 1.0\n",
      "=====================================\n",
      "(Rule 17) Attire_casual -> shirt_type_short_sleeve\n",
      "Support: 0.227\n",
      "Confidence: 0.2268\n",
      "Lift: 1.0\n",
      "=====================================\n",
      "(Rule 18) Attire_formal -> With_Kids_no\n",
      "Support: 0.148\n",
      "Confidence: 0.1482\n",
      "Lift: 1.0\n",
      "=====================================\n",
      "(Rule 19) With_Kids_yes -> Attire_formal\n",
      "Support: 0.135\n",
      "Confidence: 0.135\n",
      "Lift: 1.0\n",
      "=====================================\n",
      "(Rule 20) pants_type_long -> Attire_formal\n",
      "Support: 0.161\n",
      "Confidence: 0.161\n",
      "Lift: 1.0\n",
      "=====================================\n",
      "(Rule 21) Attire_formal -> pants_type_short\n",
      "Support: 0.133\n",
      "Confidence: 0.1328\n",
      "Lift: 1.0\n",
      "=====================================\n",
      "(Rule 22) Attire_formal -> shirt_type_long sleeve\n",
      "Support: 0.141\n",
      "Confidence: 0.1412\n",
      "Lift: 1.0\n",
      "=====================================\n",
      "(Rule 23) Attire_formal -> shirt_type_short_sleeve\n",
      "Support: 0.144\n",
      "Confidence: 0.144\n",
      "Lift: 1.0\n",
      "=====================================\n",
      "(Rule 24) Attire_traditional -> With_Kids_no\n",
      "Support: 0.129\n",
      "Confidence: 0.129\n",
      "Lift: 1.0\n",
      "=====================================\n",
      "(Rule 25) With_Kids_yes -> Attire_traditional\n",
      "Support: 0.13\n",
      "Confidence: 0.13\n",
      "Lift: 1.0\n",
      "=====================================\n",
      "(Rule 26) pants_type_long -> Attire_traditional\n",
      "Support: 0.138\n",
      "Confidence: 0.138\n",
      "Lift: 1.0\n",
      "=====================================\n",
      "(Rule 27) pants_type_short -> Attire_traditional\n",
      "Support: 0.131\n",
      "Confidence: 0.1308\n",
      "Lift: 1.0\n",
      "=====================================\n",
      "(Rule 28) Attire_traditional -> shirt_type_long sleeve\n",
      "Support: 0.135\n",
      "Confidence: 0.1353\n",
      "Lift: 1.0\n",
      "=====================================\n",
      "(Rule 29) shirt_type_short_sleeve -> Attire_traditional\n",
      "Support: 0.126\n",
      "Confidence: 0.1258\n",
      "Lift: 1.0\n",
      "=====================================\n",
      "(Rule 30) pants_type_long -> With_Kids_no\n",
      "Support: 0.287\n",
      "Confidence: 0.287\n",
      "Lift: 1.0\n",
      "=====================================\n",
      "(Rule 31) pants_type_short -> With_Kids_no\n",
      "Support: 0.238\n",
      "Confidence: 0.2382\n",
      "Lift: 1.0\n",
      "=====================================\n",
      "(Rule 32) shirt_type_long sleeve -> With_Kids_no\n",
      "Support: 0.214\n",
      "Confidence: 0.214\n",
      "Lift: 1.0\n",
      "=====================================\n",
      "(Rule 33) shirt_type_short_sleeve -> With_Kids_no\n",
      "Support: 0.289\n",
      "Confidence: 0.289\n",
      "Lift: 1.0\n",
      "=====================================\n",
      "(Rule 34) With_Kids_yes -> pants_type_long\n",
      "Support: 0.228\n",
      "Confidence: 0.2275\n",
      "Lift: 1.0\n",
      "=====================================\n",
      "(Rule 35) With_Kids_yes -> pants_type_short\n",
      "Support: 0.199\n",
      "Confidence: 0.1985\n",
      "Lift: 1.0\n",
      "=====================================\n",
      "(Rule 36) With_Kids_yes -> shirt_type_long sleeve\n",
      "Support: 0.195\n",
      "Confidence: 0.1945\n",
      "Lift: 1.0\n",
      "=====================================\n",
      "(Rule 37) With_Kids_yes -> shirt_type_short_sleeve\n",
      "Support: 0.216\n",
      "Confidence: 0.2157\n",
      "Lift: 1.0\n",
      "=====================================\n",
      "(Rule 38) pants_type_long -> shirt_type_long sleeve\n",
      "Support: 0.237\n",
      "Confidence: 0.2375\n",
      "Lift: 1.0\n",
      "=====================================\n",
      "(Rule 39) pants_type_long -> shirt_type_short_sleeve\n",
      "Support: 0.279\n",
      "Confidence: 0.2792\n",
      "Lift: 1.0\n",
      "=====================================\n",
      "(Rule 40) pants_type_short -> shirt_type_long sleeve\n",
      "Support: 0.189\n",
      "Confidence: 0.1893\n",
      "Lift: 1.0\n",
      "=====================================\n",
      "(Rule 41) shirt_type_short_sleeve -> pants_type_short\n",
      "Support: 0.246\n",
      "Confidence: 0.2457\n",
      "Lift: 1.0\n",
      "=====================================\n",
      "(Rule 42) Attire_casual -> pants_type_long\n",
      "Support: 0.123\n",
      "Confidence: 0.123\n",
      "Lift: 1.0\n",
      "=====================================\n",
      "(Rule 43) Attire_casual -> shirt_type_short_sleeve\n",
      "Support: 0.134\n",
      "Confidence: 0.1338\n",
      "Lift: 1.0\n",
      "=====================================\n",
      "(Rule 44) Attire_casual -> pants_type_long\n",
      "Support: 0.13\n",
      "Confidence: 0.1295\n",
      "Lift: 1.0\n",
      "=====================================\n",
      "(Rule 45) pants_type_long -> With_Kids_no\n",
      "Support: 0.119\n",
      "Confidence: 0.1195\n",
      "Lift: 1.0\n",
      "=====================================\n",
      "(Rule 46) pants_type_long -> shirt_type_short_sleeve\n",
      "Support: 0.154\n",
      "Confidence: 0.1537\n",
      "Lift: 1.0\n",
      "=====================================\n",
      "(Rule 47) shirt_type_short_sleeve -> pants_type_short\n",
      "Support: 0.134\n",
      "Confidence: 0.134\n",
      "Lift: 1.0\n",
      "=====================================\n",
      "(Rule 48) With_Kids_yes -> pants_type_long\n",
      "Support: 0.106\n",
      "Confidence: 0.1062\n",
      "Lift: 1.0\n",
      "=====================================\n",
      "(Rule 49) With_Kids_yes -> pants_type_long\n",
      "Support: 0.114\n",
      "Confidence: 0.114\n",
      "Lift: 1.0\n",
      "=====================================\n",
      "(Rule 50) With_Kids_yes -> shirt_type_short_sleeve\n",
      "Support: 0.102\n",
      "Confidence: 0.1015\n",
      "Lift: 1.0\n",
      "=====================================\n"
     ]
    }
   ],
   "source": [
    "cnt = 0\n",
    "\n",
    "for item in association_results:\n",
    "    cnt += 1\n",
    "    # first index of the inner list\n",
    "    # Contains base item and add item\n",
    "    pair = item[0]\n",
    "    items = [x for x in pair]\n",
    "    if len(items) < 2:\n",
    "        print(\"(Rule \" + str(cnt) + \") \" + items[0])\n",
    "    else:\n",
    "        print(\"(Rule \" + str(cnt) + \") \" + items[0] + \" -> \" + items[1])\n",
    "    \n",
    "    # second index of the inner list\n",
    "    print(\"Support: \" + str(round(item[1],3)))\n",
    "    \n",
    "    # third index of the list located at 0th\n",
    "    # of the third index of the inner list \n",
    "    \n",
    "    print(\"Confidence: \" + str(round(item[2][0][2],4)))\n",
    "    print(\"Lift: \" + str(round(item[2][0][3],4)))\n",
    "    print(\"=====================================\")"
   ]
  },
  {
   "cell_type": "markdown",
   "id": "18e829e9-3bc8-46a3-a789-a62b42d89175",
   "metadata": {},
   "source": [
    "### Imputation"
   ]
  },
  {
   "cell_type": "code",
   "execution_count": null,
   "id": "c1658f89-39d8-489f-99a9-436a66e99779",
   "metadata": {},
   "outputs": [],
   "source": [
    "from sklearn.impute import SimpleImputer"
   ]
  },
  {
   "cell_type": "code",
   "execution_count": null,
   "id": "34f16d4a-8873-404d-9bc0-01d327be4bcc",
   "metadata": {},
   "outputs": [],
   "source": [
    "imp = SimpleImputer(missing_values=np.nan, strategy='most_frequent')"
   ]
  },
  {
   "cell_type": "code",
   "execution_count": null,
   "id": "643cf999-62ec-4fac-9ec4-d47ab98c80a9",
   "metadata": {},
   "outputs": [],
   "source": [
    "imputed_data = imp.fit_transform(dataframe)"
   ]
  },
  {
   "cell_type": "code",
   "execution_count": null,
   "id": "1a53da8b-43b3-4b0f-85c5-7f7f6fec119e",
   "metadata": {},
   "outputs": [],
   "source": [
    "new_df = dataframe.copy()"
   ]
  },
  {
   "cell_type": "code",
   "execution_count": null,
   "id": "66e24533-d38a-402e-93db-b49655538797",
   "metadata": {},
   "outputs": [],
   "source": [
    "new_df.iloc[:,:-1] = imp.fit_transform(new_df.iloc[:,:-1])"
   ]
  },
  {
   "cell_type": "code",
   "execution_count": null,
   "id": "ba7d5c3d-7e27-4734-a86a-cb1af3aa988f",
   "metadata": {},
   "outputs": [],
   "source": [
    "new_df"
   ]
  },
  {
   "cell_type": "code",
   "execution_count": null,
   "id": "68be956e-5a58-4fdd-91f6-403cd0f4d505",
   "metadata": {},
   "outputs": [],
   "source": [
    "new_df1 = dataframe.copy()"
   ]
  },
  {
   "cell_type": "code",
   "execution_count": null,
   "id": "cdf01547-6358-4c33-aab7-c0d595bf428a",
   "metadata": {},
   "outputs": [],
   "source": [
    "new_df1.loc[:, new_df1.columns != 'Age_Range']  = imp.fit_transform(new_df1.loc[:, new_df1.columns != 'Age_Range'])"
   ]
  },
  {
   "cell_type": "code",
   "execution_count": null,
   "id": "9242e004-cd4d-4bc2-8736-c4ca53bef4e4",
   "metadata": {},
   "outputs": [],
   "source": [
    "new_df1"
   ]
  },
  {
   "cell_type": "code",
   "execution_count": null,
   "id": "48b67f5d-307f-4b3a-b0d9-859de381f277",
   "metadata": {},
   "outputs": [],
   "source": [
    "dataframe = pd.DataFrame(imputed_data, columns = dataframe.columns)"
   ]
  },
  {
   "cell_type": "code",
   "execution_count": null,
   "id": "20b63044-59df-4435-956d-0f9e760d5ad7",
   "metadata": {},
   "outputs": [],
   "source": [
    "dataframe"
   ]
  },
  {
   "cell_type": "code",
   "execution_count": null,
   "id": "097d63eb-be16-4f4c-991d-87fbadf6240f",
   "metadata": {},
   "outputs": [],
   "source": [
    "dataframe.isnull().sum()"
   ]
  },
  {
   "cell_type": "code",
   "execution_count": null,
   "id": "9362d988-d9f6-44ba-bb91-84947f66f011",
   "metadata": {},
   "outputs": [],
   "source": [
    "new_df.isnull().sum()"
   ]
  },
  {
   "cell_type": "code",
   "execution_count": null,
   "id": "a44c2105-6ae8-4baa-8c66-2900c578c8cd",
   "metadata": {},
   "outputs": [],
   "source": [
    "new_df1.isnull().sum()"
   ]
  },
  {
   "cell_type": "markdown",
   "id": "515aa55b-6d4f-4b9b-8f86-8aadfe56d44b",
   "metadata": {
    "tags": []
   },
   "source": [
    "### K Means Clustering"
   ]
  },
  {
   "cell_type": "code",
   "execution_count": null,
   "id": "1a990283-5fbd-4534-9e6e-ad405baad1c3",
   "metadata": {},
   "outputs": [],
   "source": [
    "plt.scatter(dataframe['longitude'],dataframe['latitude'])\n",
    "plt.show()"
   ]
  },
  {
   "cell_type": "code",
   "execution_count": null,
   "id": "c05ce093-6e6d-4dca-8b69-eb837dd93730",
   "metadata": {},
   "outputs": [],
   "source": [
    "def plot_kmeans_scatter(v1, v2):\n",
    "    fig = plt.figure(figsize=(10,8))\n",
    "    ax = fig.add_subplot(111)\n",
    "    scatter = ax.scatter(v1, v2, c=kmeans_labels[0],s=50,cmap='jet',alpha=0.7)\n",
    "    ax.set_title('K-Means Clustering')\n",
    "    ax.set_xlabel(v1.name)\n",
    "    ax.set_ylabel(v2.name)\n",
    "    plt.colorbar(scatter)\n",
    "    plt.show()  "
   ]
  },
  {
   "cell_type": "code",
   "execution_count": null,
   "id": "ee22cfff-8a0e-4181-a171-2347afb88234",
   "metadata": {},
   "outputs": [],
   "source": [
    "x = dataframe[['longitude', 'latitude']]\n",
    "ss = StandardScaler()\n",
    "X = ss.fit_transform(x)\n",
    "\n",
    "print(X) "
   ]
  },
  {
   "cell_type": "code",
   "execution_count": null,
   "id": "708894e2-0a1b-46af-bfe8-abd17249e047",
   "metadata": {},
   "outputs": [],
   "source": [
    "model = KMeans(n_clusters = 3, verbose=0)   #build the model\n",
    "model.fit(X)\n",
    "\n",
    "kmeans_labels = pd.DataFrame(model.labels_)   # put into a DataFrame. We will use this shortly...\n",
    "\n",
    "plot_kmeans_scatter(dataframe['longitude'], dataframe['latitude'])"
   ]
  },
  {
   "cell_type": "code",
   "execution_count": null,
   "id": "1bfc7ff1-e163-4001-aac7-eb0b943e0bb9",
   "metadata": {},
   "outputs": [],
   "source": [
    "kmeans = KMeans(3)\n",
    "kmeans.fit(x)\n",
    "clusters = kmeans.fit_predict(x)"
   ]
  },
  {
   "cell_type": "code",
   "execution_count": null,
   "id": "e30ed875-49bb-47be-8177-4c9cb153c4b1",
   "metadata": {},
   "outputs": [],
   "source": [
    "df_clusters = dataframe.copy()\n",
    "df_clusters['Clusters'] = clusters \n",
    "plt.scatter(df_clusters['longitude'],df_clusters['latitude'],c=df_clusters['Clusters'],cmap='autumn')"
   ]
  },
  {
   "cell_type": "markdown",
   "id": "244443d7-f1a3-4f66-9fa9-730f2a40ca1d",
   "metadata": {},
   "source": [
    "### Dropna for number of buckets"
   ]
  },
  {
   "cell_type": "code",
   "execution_count": null,
   "id": "eb6d6982-91bf-426e-8a29-a99f484a65a7",
   "metadata": {},
   "outputs": [],
   "source": [
    "new_df.dropna(subset=['Num_of_Baskets'], inplace=True)"
   ]
  },
  {
   "cell_type": "code",
   "execution_count": null,
   "id": "9b68896a-acda-4c90-bcd7-be6070c33341",
   "metadata": {},
   "outputs": [],
   "source": [
    "new_df.isnull().sum()"
   ]
  },
  {
   "cell_type": "code",
   "execution_count": null,
   "id": "f4a08c66-8f69-49a1-b090-33e8e0ed77b2",
   "metadata": {},
   "outputs": [],
   "source": [
    "new_df.shape"
   ]
  },
  {
   "cell_type": "code",
   "execution_count": null,
   "id": "7b3ffaf5-dc28-4e42-b048-928e1fc14952",
   "metadata": {},
   "outputs": [],
   "source": [
    "new_df.dtypes"
   ]
  },
  {
   "cell_type": "markdown",
   "id": "9af15ea6-0f4a-4973-b6a1-13b4b4c39313",
   "metadata": {},
   "source": [
    "### Dropna for Age_Range"
   ]
  },
  {
   "cell_type": "code",
   "execution_count": null,
   "id": "f47fea58-1fa6-44f7-a5dd-4384ce3d473c",
   "metadata": {},
   "outputs": [],
   "source": [
    "new_df1.dropna(subset=['Age_Range'], inplace=True)"
   ]
  },
  {
   "cell_type": "code",
   "execution_count": null,
   "id": "720a9ba5-6e73-4ea2-b377-dbf2c8ac6b0a",
   "metadata": {},
   "outputs": [],
   "source": [
    "new_df1.isnull().sum()"
   ]
  },
  {
   "cell_type": "code",
   "execution_count": null,
   "id": "8232903e-34b4-4e21-a4e7-4c507ec3e4b6",
   "metadata": {},
   "outputs": [],
   "source": [
    "new_df1.shape"
   ]
  },
  {
   "cell_type": "code",
   "execution_count": null,
   "id": "ac79a6c9-dce6-499b-8066-832bab24f2b8",
   "metadata": {},
   "outputs": [],
   "source": [
    "new_df2 = new_df1.copy()"
   ]
  },
  {
   "cell_type": "code",
   "execution_count": null,
   "id": "d0ebdce4-7a50-40e5-a80c-3c56ea231c58",
   "metadata": {
    "tags": []
   },
   "outputs": [],
   "source": [
    "dataframe['Age_Range'] = dataframe.Age_Range.astype(float)\n",
    "dataframe['Washer_No'] = dataframe.Washer_No.astype(np.int64)\n",
    "dataframe['Dryer_No'] = dataframe.Dryer_No.astype(np.int64)\n",
    "dataframe['latitude'] = dataframe.latitude.astype(float)\n",
    "dataframe['longitude'] = dataframe.longitude.astype(float)\n",
    "dataframe['Num_of_Baskets'] = dataframe.Num_of_Baskets.astype(float)"
   ]
  },
  {
   "cell_type": "code",
   "execution_count": null,
   "id": "d38c86ab-2205-41c2-99e0-c16ae7f8a323",
   "metadata": {},
   "outputs": [],
   "source": [
    "dataframe.dtypes"
   ]
  },
  {
   "cell_type": "markdown",
   "id": "1ebb0894-5b86-4346-a0cf-0375807272d9",
   "metadata": {},
   "source": [
    "### Correlation"
   ]
  },
  {
   "cell_type": "code",
   "execution_count": null,
   "id": "255451d3-cca2-4e66-97c0-7c94d3eae419",
   "metadata": {},
   "outputs": [],
   "source": [
    "cor = new_df.corr()\n",
    "plt.figure(figsize=(10,10))\n",
    "sns.heatmap(cor , vmax=.8, square=True, annot=True, fmt= '.2f', annot_kws={'size': 15}, cmap=sns.color_palette(\"Reds\"))"
   ]
  },
  {
   "cell_type": "markdown",
   "id": "2880e70e-5f39-4a60-acf9-80d092ac65e5",
   "metadata": {},
   "source": [
    "### Binning for Age Range"
   ]
  },
  {
   "cell_type": "code",
   "execution_count": null,
   "id": "918aad60-cb59-420e-9983-2c171c3046f7",
   "metadata": {},
   "outputs": [],
   "source": [
    "bins = [0,10,20,30,40,50,60,70,80,90,100]\n",
    "new_df1['Binned_Age_Range'] = pd.cut(new_df1['Age_Range'], bins)\n",
    "new_df1"
   ]
  },
  {
   "cell_type": "code",
   "execution_count": null,
   "id": "a476a47b-bda5-4dbc-ad07-eefade8f72cc",
   "metadata": {},
   "outputs": [],
   "source": [
    "new_df1['Age_Range'].plot(kind=\"hist\", bins = bins, figsize=(10,8))"
   ]
  },
  {
   "cell_type": "code",
   "execution_count": null,
   "id": "61c707e3-acca-40c8-b091-8875e19afb6f",
   "metadata": {},
   "outputs": [],
   "source": [
    "new_df1 = new_df1.drop(\"Age_Range\", 1)\n",
    "new_df1"
   ]
  },
  {
   "cell_type": "markdown",
   "id": "e023fe35-1e39-4650-93bf-1ce4b35328f2",
   "metadata": {
    "tags": []
   },
   "source": [
    "### Label Encode and Prepare X, y"
   ]
  },
  {
   "cell_type": "code",
   "execution_count": null,
   "id": "6e8ce195-0823-405d-a9cc-755a15e7527a",
   "metadata": {},
   "outputs": [],
   "source": [
    "new_df = new_df.apply(LabelEncoder().fit_transform)\n",
    "new_df"
   ]
  },
  {
   "cell_type": "code",
   "execution_count": null,
   "id": "b400552a-c30f-41e8-bce1-93cfc1335f0a",
   "metadata": {},
   "outputs": [],
   "source": [
    "y = new_df.Num_of_Baskets\n",
    "X = new_df.drop(\"Num_of_Baskets\", 1)\n",
    "colnames = X.columns"
   ]
  },
  {
   "cell_type": "code",
   "execution_count": null,
   "id": "6ecc15d3-9e0d-4570-8194-f05c9d885603",
   "metadata": {},
   "outputs": [],
   "source": [
    "new_df1 = new_df1.apply(LabelEncoder().fit_transform)\n",
    "new_df1"
   ]
  },
  {
   "cell_type": "code",
   "execution_count": null,
   "id": "2577897e-797b-4d1a-b9d3-6504b3b6e5b3",
   "metadata": {},
   "outputs": [],
   "source": [
    "y1 = new_df1.Binned_Age_Range\n",
    "X1 = new_df1.drop(\"Binned_Age_Range\", 1)\n",
    "colnames = X1.columns"
   ]
  },
  {
   "cell_type": "code",
   "execution_count": null,
   "id": "f5a592d9-2e42-489c-8d42-f382f5763889",
   "metadata": {},
   "outputs": [],
   "source": [
    "new_df2 = new_df2.apply(LabelEncoder().fit_transform)\n",
    "new_df2"
   ]
  },
  {
   "cell_type": "code",
   "execution_count": null,
   "id": "b722208f-b526-46f9-917f-b1428f8bfc24",
   "metadata": {},
   "outputs": [],
   "source": [
    "y2 = new_df2.Age_Range\n",
    "X2 = new_df2.drop(\"Age_Range\", 1)\n",
    "colnames = X2.columns"
   ]
  },
  {
   "cell_type": "markdown",
   "id": "71db0ef7-75fc-4c9c-9966-812f83ed1a4b",
   "metadata": {},
   "source": [
    "### Feature Selection"
   ]
  },
  {
   "cell_type": "code",
   "execution_count": null,
   "id": "1930c50f-ea23-49ee-836e-caa90c6d6110",
   "metadata": {},
   "outputs": [],
   "source": [
    "def ranking(ranks, names, order=1):\n",
    "    minmax = MinMaxScaler()\n",
    "    ranks = minmax.fit_transform(order*np.array([ranks]).T).T[0]\n",
    "    ranks = map(lambda x: round(x,2), ranks)\n",
    "    return dict(zip(names, ranks))"
   ]
  },
  {
   "cell_type": "code",
   "execution_count": null,
   "id": "cb3a28c2-9c12-4ecd-9999-79142edc4d79",
   "metadata": {},
   "outputs": [],
   "source": [
    "rf = RandomForestClassifier(n_jobs=-1, class_weight=\"balanced\", max_depth=5)\n",
    "\n",
    "feat_selector = BorutaPy(rf, n_estimators=\"auto\", random_state=1)"
   ]
  },
  {
   "cell_type": "code",
   "execution_count": null,
   "id": "989d843b-97e0-474b-95b9-4130b10b6d52",
   "metadata": {},
   "outputs": [],
   "source": [
    "feat_selector.fit(X.values, y.values.ravel())"
   ]
  },
  {
   "cell_type": "code",
   "execution_count": null,
   "id": "e568159b-8000-4782-8277-0448e10b1f56",
   "metadata": {},
   "outputs": [],
   "source": [
    "boruta_score = ranking(list(map(float, feat_selector.ranking_)), colnames, order=-1)\n",
    "boruta_score = pd.DataFrame(list(boruta_score.items()), columns=['Features', 'Score'])\n",
    "boruta_score = boruta_score.sort_values(\"Score\", ascending = False)"
   ]
  },
  {
   "cell_type": "code",
   "execution_count": null,
   "id": "de02a405-18f5-4a2f-a20c-5371a5e1c3cc",
   "metadata": {},
   "outputs": [],
   "source": [
    "print('---------Top 10----------')\n",
    "display(boruta_score.head(10))\n",
    "\n",
    "print('---------Bottom 10----------')\n",
    "boruta_score.tail(10)"
   ]
  },
  {
   "cell_type": "code",
   "execution_count": null,
   "id": "760f18ab-587f-46f2-868a-a71d267bc2ae",
   "metadata": {
    "tags": []
   },
   "outputs": [],
   "source": [
    "sns_boruta_plot = sns.catplot(x=\"Score\", y=\"Features\", data = boruta_score[:10], kind = \"bar\", \n",
    "               height=14, aspect=1.9, palette='coolwarm')\n",
    "plt.title(\"Boruta Top 10 Features\")"
   ]
  },
  {
   "cell_type": "code",
   "execution_count": null,
   "id": "c203a88e-b563-4e68-bd36-56adfe1a61bc",
   "metadata": {},
   "outputs": [],
   "source": [
    "feat_selector.fit(X1.values, y1.values.ravel())"
   ]
  },
  {
   "cell_type": "code",
   "execution_count": null,
   "id": "d384955f-4829-4700-b08b-61d6dbe87918",
   "metadata": {},
   "outputs": [],
   "source": [
    "boruta_score = ranking(list(map(float, feat_selector.ranking_)), colnames, order=-1)\n",
    "boruta_score = pd.DataFrame(list(boruta_score.items()), columns=['Features', 'Score'])\n",
    "boruta_score = boruta_score.sort_values(\"Score\", ascending = False)"
   ]
  },
  {
   "cell_type": "code",
   "execution_count": null,
   "id": "895079e6-6bc8-425d-a3f5-52d6cb66ea02",
   "metadata": {},
   "outputs": [],
   "source": [
    "print('---------Top 10----------')\n",
    "display(boruta_score.head(10))\n",
    "\n",
    "print('---------Bottom 10----------')\n",
    "boruta_score.tail(10)"
   ]
  },
  {
   "cell_type": "code",
   "execution_count": null,
   "id": "b040413d-69a0-437a-a76e-5c01e3195a10",
   "metadata": {
    "tags": []
   },
   "outputs": [],
   "source": [
    "sns_boruta_plot = sns.catplot(x=\"Score\", y=\"Features\", data = boruta_score[:10], kind = \"bar\", \n",
    "               height=14, aspect=1.9, palette='coolwarm')\n",
    "plt.title(\"Boruta Top 10 Features\")"
   ]
  },
  {
   "cell_type": "code",
   "execution_count": null,
   "id": "2e55c8a6-9127-4488-95fe-c3dafbbb01e6",
   "metadata": {},
   "outputs": [],
   "source": [
    "rf = RandomForestClassifier(n_jobs=-1, class_weight=\"balanced\", max_depth=5, n_estimators=100)\n",
    "rf.fit(X, y)\n",
    "rfe = RFECV(rf, min_features_to_select = 1, cv = 3)"
   ]
  },
  {
   "cell_type": "code",
   "execution_count": null,
   "id": "0c91215c-ef4d-4b16-9f61-3178bc7537ba",
   "metadata": {},
   "outputs": [],
   "source": [
    "rfe.fit(X, y)"
   ]
  },
  {
   "cell_type": "code",
   "execution_count": null,
   "id": "ae23ec14-f5f7-4a2b-9f50-70f090eb7f01",
   "metadata": {},
   "outputs": [],
   "source": [
    "rfe_score = ranking(list(map(float, rfe.ranking_)), colnames, order=-1)\n",
    "rfe_score = pd.DataFrame(list(rfe_score.items()), columns=['Features', 'Score'])\n",
    "rfe_score = rfe_score.sort_values(\"Score\", ascending = False)"
   ]
  },
  {
   "cell_type": "code",
   "execution_count": null,
   "id": "1aeef4f1-ebd4-4475-ac9d-6fa92182c2ba",
   "metadata": {},
   "outputs": [],
   "source": [
    "print('---------Top 10----------')\n",
    "display(rfe_score.head(10))\n",
    "\n",
    "print('---------Bottom 10----------')\n",
    "rfe_score.tail(10)"
   ]
  },
  {
   "cell_type": "code",
   "execution_count": null,
   "id": "ee39ca35-c4ad-4a93-8fbc-f3f7d1335eee",
   "metadata": {},
   "outputs": [],
   "source": [
    "sns_rfe_plot = sns.catplot(x=\"Score\", y=\"Features\", data = rfe_score[0:10], kind = \"bar\", \n",
    "               height=14, aspect=1.9, palette='coolwarm')\n",
    "plt.title(\"RFE Top-10 Features\")"
   ]
  },
  {
   "cell_type": "code",
   "execution_count": null,
   "id": "87f4bc50-0b47-4d6b-95ef-ee88fb29834a",
   "metadata": {},
   "outputs": [],
   "source": [
    "rf = RandomForestClassifier(n_jobs=-1, class_weight=\"balanced\", max_depth=5, n_estimators=100)\n",
    "rf.fit(X1, y1)\n",
    "rfe = RFECV(rf, min_features_to_select = 1, cv = 3)"
   ]
  },
  {
   "cell_type": "code",
   "execution_count": null,
   "id": "d9e91f4f-3533-4498-be46-afbb91ca70d9",
   "metadata": {},
   "outputs": [],
   "source": [
    "rfe.fit(X1, y1)"
   ]
  },
  {
   "cell_type": "code",
   "execution_count": null,
   "id": "36b95e90-789d-4489-9d54-e54eb03e4178",
   "metadata": {},
   "outputs": [],
   "source": [
    "rfe_score = ranking(list(map(float, rfe.ranking_)), colnames, order=-1)\n",
    "rfe_score = pd.DataFrame(list(rfe_score.items()), columns=['Features', 'Score'])\n",
    "rfe_score = rfe_score.sort_values(\"Score\", ascending = False)"
   ]
  },
  {
   "cell_type": "code",
   "execution_count": null,
   "id": "622c9a18-1591-438b-9f85-885fdaad167d",
   "metadata": {},
   "outputs": [],
   "source": [
    "print('---------Top 10----------')\n",
    "display(rfe_score.head(10))\n",
    "\n",
    "print('---------Bottom 10----------')\n",
    "rfe_score.tail(10)"
   ]
  },
  {
   "cell_type": "code",
   "execution_count": null,
   "id": "931b5479-4ddc-4a7e-968c-5f189a8d84df",
   "metadata": {},
   "outputs": [],
   "source": [
    "sns_rfe_plot = sns.catplot(x=\"Score\", y=\"Features\", data = rfe_score[0:10], kind = \"bar\", \n",
    "               height=14, aspect=1.9, palette='coolwarm')\n",
    "plt.title(\"RFE Top-10 Features\")"
   ]
  },
  {
   "cell_type": "markdown",
   "id": "d3cf8d56-dbad-4f3e-b602-16c55f7af0f1",
   "metadata": {},
   "source": [
    "### Classification for Number_of_Bucket"
   ]
  },
  {
   "cell_type": "code",
   "execution_count": null,
   "id": "4dbac44b-bb0f-426e-9c81-c22f854d8db9",
   "metadata": {},
   "outputs": [],
   "source": [
    "X_train, X_test, y_train, y_test = train_test_split(X, y, test_size = 0.2, random_state = 10) "
   ]
  },
  {
   "cell_type": "code",
   "execution_count": null,
   "id": "1e93d59a-45c4-48fd-8ce5-0bf0db041328",
   "metadata": {},
   "outputs": [],
   "source": [
    "from sklearn.metrics import classification_report\n",
    "from sklearn.datasets import make_classification\n",
    "nb = GaussianNB()\n",
    "nb.fit(X_train, y_train)\n",
    "y_pred = nb.predict(X_test)\n",
    "\n",
    "# Calculate the overall accuracy on test set \n",
    "\n",
    "print(\"Accuracy on training set: {:.3f}\".format(nb.score(X_train, y_train)))\n",
    "print(\"Accuracy on test set: {:.3f}\".format(nb.score(X_test, y_test)))\n",
    "\n",
    "confusion_majority = confusion_matrix(y_test, y_pred)\n",
    "\n",
    "print('Mjority classifier Confusion Matrix\\n', confusion_majority)\n",
    "\n",
    "prob_NB = nb.predict_proba(X_test)\n",
    "#prob_NB = prob_NB[:, 1]\n",
    "\n",
    "sk_report = classification_report(\n",
    "    digits=6,\n",
    "    y_true=y_test, \n",
    "    y_pred=nb.predict(X_test))\n",
    "print(sk_report)"
   ]
  },
  {
   "cell_type": "code",
   "execution_count": null,
   "id": "9f48b85b-a202-4ccc-a51f-7b09d5a37ec3",
   "metadata": {},
   "outputs": [],
   "source": [
    "fpr = {}\n",
    "tpr = {}\n",
    "thresh ={}\n",
    "n_class = new_df['Num_of_Baskets'].nunique()\n",
    "\n",
    "for i in range(n_class):    \n",
    "    fpr[i], tpr[i], thresh[i] = roc_curve(y_test, prob_NB[:,i], pos_label=i)\n",
    "    \n",
    "# plotting    \n",
    "plt.plot(fpr[0], tpr[0], color='red', label='Class 0 vs Rest')\n",
    "plt.plot(fpr[1], tpr[1], color='orange', label='Class 1 vs Rest')\n",
    "plt.plot(fpr[2], tpr[2], color='blue', label='Class 2 vs Rest')\n",
    "plt.plot([0, 1], [0, 1], color='green', linestyle='--')\n",
    "plt.title('Multiclass ROC curve')\n",
    "plt.xlabel('False Positive Rate')\n",
    "plt.ylabel('True Positive rate')\n",
    "plt.legend(loc='best')"
   ]
  },
  {
   "cell_type": "code",
   "execution_count": null,
   "id": "dd31d518-e52a-4dcf-a0b9-c3b4a2616ae0",
   "metadata": {},
   "outputs": [],
   "source": [
    "rf = RandomForestClassifier(random_state=1, n_estimators=1000, max_depth=5)\n",
    "rf.fit(X_train, y_train)\n",
    "y_pred = rf.predict(X_test)\n",
    "\n",
    "# Calculate the overall accuracy on test set \n",
    "\n",
    "print(\"Accuracy on training set: {:.3f}\".format(rf.score(X_train, y_train)))\n",
    "print(\"Accuracy on test set: {:.3f}\".format(rf.score(X_test, y_test)))\n",
    "\n",
    "confusion_majority = confusion_matrix(y_test, y_pred)\n",
    "\n",
    "print('Mjority classifier Confusion Matrix\\n', confusion_majority)\n",
    "\n",
    "prob_RF = rf.predict_proba(X_test)\n",
    "#prob_RF = prob_RF[:, 1]"
   ]
  },
  {
   "cell_type": "code",
   "execution_count": null,
   "id": "bba706da-174b-42b4-b3b6-43dd0c88fc94",
   "metadata": {},
   "outputs": [],
   "source": [
    "fpr = {}\n",
    "tpr = {}\n",
    "thresh ={}\n",
    "n_class = new_df['Num_of_Baskets'].nunique()\n",
    "\n",
    "for i in range(n_class):    \n",
    "    fpr[i], tpr[i], thresh[i] = roc_curve(y_test, prob_RF[:,i], pos_label=i)\n",
    "    \n",
    "# plotting    \n",
    "plt.plot(fpr[0], tpr[0], color='red', label='Class 0 vs Rest')\n",
    "plt.plot(fpr[1], tpr[1], color='orange', label='Class 1 vs Rest')\n",
    "plt.plot(fpr[2], tpr[2], color='blue', label='Class 2 vs Rest')\n",
    "plt.plot([0, 1], [0, 1], color='green', linestyle='--')\n",
    "plt.title('Multiclass ROC curve')\n",
    "plt.xlabel('False Positive Rate')\n",
    "plt.ylabel('True Positive rate')\n",
    "plt.legend(loc='best')"
   ]
  },
  {
   "cell_type": "code",
   "execution_count": null,
   "id": "78887b94-ce3c-4520-9997-20d7688d7962",
   "metadata": {},
   "outputs": [],
   "source": [
    "KNN = KNeighborsClassifier(n_neighbors=3)\n",
    "KNN.fit(X_train, y_train)\n",
    "y_pred = KNN.predict(X_test)\n",
    "\n",
    "# Calculate the overall accuracy on test set \n",
    "\n",
    "print(\"Accuracy on training set: {:.3f}\".format(KNN.score(X_train, y_train)))\n",
    "print(\"Accuracy on test set: {:.3f}\".format(KNN.score(X_test, y_test)))\n",
    "\n",
    "confusion_majority = confusion_matrix(y_test, y_pred)\n",
    "\n",
    "print('Mjority classifier Confusion Matrix\\n', confusion_majority)\n",
    "\n",
    "prob_KNN = KNN.predict_proba(X_test)\n",
    "#prob_KNN = prob_KNN[:, 1]"
   ]
  },
  {
   "cell_type": "code",
   "execution_count": null,
   "id": "c5051149-04a4-4fa8-bdfe-6eac451214d1",
   "metadata": {},
   "outputs": [],
   "source": [
    "fpr = {}\n",
    "tpr = {}\n",
    "thresh ={}\n",
    "n_class = new_df['Num_of_Baskets'].nunique()\n",
    "\n",
    "for i in range(n_class):    \n",
    "    fpr[i], tpr[i], thresh[i] = roc_curve(y_test, prob_KNN[:,i], pos_label=i)\n",
    "    \n",
    "# plotting    \n",
    "plt.plot(fpr[0], tpr[0], color='red', label='Class 0 vs Rest')\n",
    "plt.plot(fpr[1], tpr[1], color='orange', label='Class 1 vs Rest')\n",
    "plt.plot(fpr[2], tpr[2], color='blue', label='Class 2 vs Rest')\n",
    "plt.plot([0, 1], [0, 1], color='green', linestyle='--')\n",
    "plt.title('Multiclass ROC curve')\n",
    "plt.xlabel('False Positive Rate')\n",
    "plt.ylabel('True Positive rate')\n",
    "plt.legend(loc='best')"
   ]
  },
  {
   "cell_type": "markdown",
   "id": "c89b3e85-f5d1-43e3-8cf1-edf24f099633",
   "metadata": {},
   "source": [
    "### SMOTE"
   ]
  },
  {
   "cell_type": "code",
   "execution_count": null,
   "id": "04e87062-4773-4d36-8e89-8b248d4df86d",
   "metadata": {},
   "outputs": [],
   "source": [
    "os = SMOTE(random_state=0)\n",
    "X_train, X_test, y_train, y_test = train_test_split(X, y.values.ravel(), test_size=0.4, random_state=10)\n",
    "columns = X_train.columns\n",
    "os_data_X, os_data_y = os.fit_resample(X_train, y_train)\n",
    "os_data_X = pd.DataFrame(data=os_data_X, columns=columns)\n",
    "os_data_y = pd.DataFrame(data=os_data_y, columns=['Num_of_Baskets'])\n",
    "\n",
    "# we can Check the numbers of our data\n",
    "print(\"length of oversampled data is \",len(os_data_X))\n",
    "print(\"Number of 1 in oversampled data\",len(os_data_y[os_data_y['Num_of_Baskets']==0]))\n",
    "print(\"Number of 2\",len(os_data_y[os_data_y['Num_of_Baskets']==1]))\n",
    "print(\"Number of 3\",len(os_data_y[os_data_y['Num_of_Baskets']==2]))\n",
    "print(\"Proportion of 1 data in oversampled data is \",len(os_data_y[os_data_y['Num_of_Baskets']==0])/len(os_data_X))\n",
    "print(\"Proportion of 2 data in oversampled data is \",len(os_data_y[os_data_y['Num_of_Baskets']==1])/len(os_data_X))\n",
    "print(\"Proportion of 3 data in oversampled data is \",len(os_data_y[os_data_y['Num_of_Baskets']==2])/len(os_data_X))"
   ]
  },
  {
   "cell_type": "code",
   "execution_count": null,
   "id": "37c5246d-e5f2-41c8-aec8-3c8942aa56df",
   "metadata": {},
   "outputs": [],
   "source": [
    "X_train, X_test, y_train, y_test = train_test_split(os_data_X, os_data_y, test_size=0.4, random_state=10)"
   ]
  },
  {
   "cell_type": "code",
   "execution_count": null,
   "id": "fa5f348e-d1c7-4c51-b7f5-85f572ab91a9",
   "metadata": {},
   "outputs": [],
   "source": [
    "from sklearn.metrics import classification_report\n",
    "from sklearn.datasets import make_classification\n",
    "nb = GaussianNB()\n",
    "nb.fit(X_train, y_train)\n",
    "y_pred = nb.predict(X_test)\n",
    "\n",
    "# Calculate the overall accuracy on test set \n",
    "\n",
    "print(\"Accuracy on training set: {:.3f}\".format(nb.score(X_train, y_train)))\n",
    "print(\"Accuracy on test set: {:.3f}\".format(nb.score(X_test, y_test)))\n",
    "\n",
    "confusion_majority = confusion_matrix(y_test, y_pred)\n",
    "\n",
    "print('Mjority classifier Confusion Matrix\\n', confusion_majority)\n",
    "\n",
    "prob_NB = nb.predict_proba(X_test)\n",
    "#prob_NB = prob_NB[:, 1]\n",
    "\n",
    "sk_report = classification_report(\n",
    "    digits=6,\n",
    "    y_true=y_test, \n",
    "    y_pred=nb.predict(X_test))\n",
    "print(sk_report)"
   ]
  },
  {
   "cell_type": "code",
   "execution_count": null,
   "id": "bfdf84e9-edc2-4b8a-ba1b-5c0d7a4d2fd0",
   "metadata": {},
   "outputs": [],
   "source": [
    "fpr = {}\n",
    "tpr = {}\n",
    "thresh ={}\n",
    "n_class = new_df['Num_of_Baskets'].nunique()\n",
    "\n",
    "for i in range(n_class):    \n",
    "    fpr[i], tpr[i], thresh[i] = roc_curve(y_test, prob_NB[:,i], pos_label=i)\n",
    "    \n",
    "# plotting    \n",
    "plt.plot(fpr[0], tpr[0], color='red', label='Class 0 vs Rest')\n",
    "plt.plot(fpr[1], tpr[1], color='orange', label='Class 1 vs Rest')\n",
    "plt.plot(fpr[2], tpr[2], color='blue', label='Class 2 vs Rest')\n",
    "plt.plot([0, 1], [0, 1], color='green', linestyle='--')\n",
    "plt.title('Multiclass ROC curve')\n",
    "plt.xlabel('False Positive Rate')\n",
    "plt.ylabel('True Positive rate')\n",
    "plt.legend(loc='best')"
   ]
  },
  {
   "cell_type": "code",
   "execution_count": null,
   "id": "3e0d20f0-f194-47c2-8590-76292e4c7ee6",
   "metadata": {},
   "outputs": [],
   "source": [
    "rf = RandomForestClassifier(random_state=1, n_estimators=1000, max_depth=5)\n",
    "rf.fit(X_train, y_train)\n",
    "y_pred = rf.predict(X_test)\n",
    "\n",
    "# Calculate the overall accuracy on test set \n",
    "\n",
    "print(\"Accuracy on training set: {:.3f}\".format(rf.score(X_train, y_train)))\n",
    "print(\"Accuracy on test set: {:.3f}\".format(rf.score(X_test, y_test)))\n",
    "\n",
    "confusion_majority = confusion_matrix(y_test, y_pred)\n",
    "\n",
    "print('Mjority classifier Confusion Matrix\\n', confusion_majority)\n",
    "\n",
    "prob_RF = rf.predict_proba(X_test)\n",
    "#prob_RF = prob_RF[:, 1]\n",
    "\n",
    "sk_report = classification_report(\n",
    "    digits=6,\n",
    "    y_true=y_test, \n",
    "    y_pred=rf.predict(X_test))\n",
    "print(sk_report)"
   ]
  },
  {
   "cell_type": "code",
   "execution_count": null,
   "id": "c22cdeda-d7aa-4024-b7ef-9f1119ea2373",
   "metadata": {},
   "outputs": [],
   "source": [
    "fpr = {}\n",
    "tpr = {}\n",
    "thresh ={}\n",
    "n_class = new_df['Num_of_Baskets'].nunique()\n",
    "\n",
    "for i in range(n_class):    \n",
    "    fpr[i], tpr[i], thresh[i] = roc_curve(y_test, prob_RF[:,i], pos_label=i)\n",
    "    \n",
    "# plotting    \n",
    "plt.plot(fpr[0], tpr[0], color='red', label='Class 0 vs Rest')\n",
    "plt.plot(fpr[1], tpr[1], color='orange', label='Class 1 vs Rest')\n",
    "plt.plot(fpr[2], tpr[2], color='blue', label='Class 2 vs Rest')\n",
    "plt.plot([0, 1], [0, 1], color='green', linestyle='--')\n",
    "plt.title('Multiclass ROC curve')\n",
    "plt.xlabel('False Positive Rate')\n",
    "plt.ylabel('True Positive rate')\n",
    "plt.legend(loc='best')"
   ]
  },
  {
   "cell_type": "code",
   "execution_count": null,
   "id": "73275377-7ff8-45e7-8d4c-08df4839f989",
   "metadata": {},
   "outputs": [],
   "source": [
    "KNN = KNeighborsClassifier(n_neighbors=3)\n",
    "KNN.fit(X_train, y_train)\n",
    "y_pred = KNN.predict(X_test)\n",
    "\n",
    "# Calculate the overall accuracy on test set \n",
    "\n",
    "print(\"Accuracy on training set: {:.3f}\".format(KNN.score(X_train, y_train)))\n",
    "print(\"Accuracy on test set: {:.3f}\".format(KNN.score(X_test, y_test)))\n",
    "\n",
    "confusion_majority = confusion_matrix(y_test, y_pred)\n",
    "\n",
    "print('Mjority classifier Confusion Matrix\\n', confusion_majority)\n",
    "\n",
    "prob_KNN = KNN.predict_proba(X_test)\n",
    "#prob_KNN = prob_KNN[:, 1]\n",
    "\n",
    "sk_report = classification_report(\n",
    "    digits=6,\n",
    "    y_true=y_test, \n",
    "    y_pred=KNN.predict(X_test))\n",
    "print(sk_report)"
   ]
  },
  {
   "cell_type": "code",
   "execution_count": null,
   "id": "f31adcbe-005f-45b8-87da-523f45046641",
   "metadata": {},
   "outputs": [],
   "source": [
    "fpr = {}\n",
    "tpr = {}\n",
    "thresh ={}\n",
    "n_class = new_df['Num_of_Baskets'].nunique()\n",
    "\n",
    "for i in range(n_class):    \n",
    "    fpr[i], tpr[i], thresh[i] = roc_curve(y_test, prob_KNN[:,i], pos_label=i)\n",
    "    \n",
    "# plotting    \n",
    "plt.plot(fpr[0], tpr[0], color='red', label='Class 0 vs Rest')\n",
    "plt.plot(fpr[1], tpr[1], color='orange', label='Class 1 vs Rest')\n",
    "plt.plot(fpr[2], tpr[2], color='blue', label='Class 2 vs Rest')\n",
    "plt.plot([0, 1], [0, 1], color='green', linestyle='--')\n",
    "plt.title('Multiclass ROC curve')\n",
    "plt.xlabel('False Positive Rate')\n",
    "plt.ylabel('True Positive rate')\n",
    "plt.legend(loc='best')"
   ]
  },
  {
   "cell_type": "markdown",
   "id": "5f6851e3-67c4-4f32-a37f-18349cdc0603",
   "metadata": {},
   "source": [
    "### Classification for Age_Range"
   ]
  },
  {
   "cell_type": "code",
   "execution_count": null,
   "id": "dfcc0065-5f54-4bd4-9a9f-7990e18a211b",
   "metadata": {},
   "outputs": [],
   "source": [
    "X_train, X_test, y_train, y_test = train_test_split(X1, y1, test_size = 0.2, random_state = 10) "
   ]
  },
  {
   "cell_type": "code",
   "execution_count": null,
   "id": "2ae932de-9736-4353-a04a-a8a35a91d071",
   "metadata": {},
   "outputs": [],
   "source": [
    "from sklearn.metrics import classification_report\n",
    "from sklearn.datasets import make_classification\n",
    "nb = GaussianNB()\n",
    "nb.fit(X_train, y_train)\n",
    "y_pred = nb.predict(X_test)\n",
    "\n",
    "# Calculate the overall accuracy on test set \n",
    "\n",
    "print(\"Accuracy on training set: {:.3f}\".format(nb.score(X_train, y_train)))\n",
    "print(\"Accuracy on test set: {:.3f}\".format(nb.score(X_test, y_test)))\n",
    "\n",
    "confusion_majority = confusion_matrix(y_test, y_pred)\n",
    "\n",
    "print('Mjority classifier Confusion Matrix\\n', confusion_majority)\n",
    "\n",
    "prob_NB = nb.predict_proba(X_test)\n",
    "#prob_NB = prob_NB[:, 1]\n",
    "\n",
    "sk_report = classification_report(\n",
    "    digits=6,\n",
    "    y_true=y_test, \n",
    "    y_pred=nb.predict(X_test))\n",
    "print(sk_report)"
   ]
  },
  {
   "cell_type": "code",
   "execution_count": null,
   "id": "72072302-6bb6-4208-88a7-006a614eb6f0",
   "metadata": {},
   "outputs": [],
   "source": [
    "fpr = {}\n",
    "tpr = {}\n",
    "thresh ={}\n",
    "n_class = new_df1['Binned_Age_Range'].nunique()\n",
    "\n",
    "for i in range(n_class):    \n",
    "    fpr[i], tpr[i], thresh[i] = roc_curve(y_test, prob_NB[:,i], pos_label=i)\n",
    "    \n",
    "# plotting    \n",
    "plt.plot(fpr[0], tpr[0], color='red', label='Class 0 vs Rest')\n",
    "plt.plot(fpr[1], tpr[1], color='orange', label='Class 1 vs Rest')\n",
    "plt.plot(fpr[2], tpr[2], color='blue', label='Class 2 vs Rest')\n",
    "plt.plot(fpr[3], tpr[3], color='cyan', label='Class 3 vs Rest')\n",
    "plt.plot(fpr[4], tpr[4], color='magenta', label='Class 4 vs Rest')\n",
    "plt.plot([0, 1], [0, 1], color='green', linestyle='--')\n",
    "plt.title('Multiclass ROC curve')\n",
    "plt.xlabel('False Positive Rate')\n",
    "plt.ylabel('True Positive rate')\n",
    "plt.legend(loc='best')"
   ]
  },
  {
   "cell_type": "code",
   "execution_count": null,
   "id": "41c904b8-783e-4787-9f67-656d48f9302a",
   "metadata": {},
   "outputs": [],
   "source": [
    "rf = RandomForestClassifier(random_state=1, n_estimators=1000, max_depth=5)\n",
    "rf.fit(X_train, y_train)\n",
    "y_pred = rf.predict(X_test)\n",
    "\n",
    "# Calculate the overall accuracy on test set \n",
    "\n",
    "print(\"Accuracy on training set: {:.3f}\".format(rf.score(X_train, y_train)))\n",
    "print(\"Accuracy on test set: {:.3f}\".format(rf.score(X_test, y_test)))\n",
    "\n",
    "confusion_majority = confusion_matrix(y_test, y_pred)\n",
    "\n",
    "print('Mjority classifier Confusion Matrix\\n', confusion_majority)\n",
    "\n",
    "prob_RF = rf.predict_proba(X_test)\n",
    "#prob_RF = prob_RF[:, 1]\n",
    "\n",
    "sk_report = classification_report(\n",
    "    digits=6,\n",
    "    y_true=y_test, \n",
    "    y_pred=rf.predict(X_test))\n",
    "print(sk_report)"
   ]
  },
  {
   "cell_type": "code",
   "execution_count": null,
   "id": "d0f2b76e-4fdb-4e14-8601-4550ab5ebad0",
   "metadata": {},
   "outputs": [],
   "source": [
    "fpr = {}\n",
    "tpr = {}\n",
    "thresh ={}\n",
    "n_class = new_df1['Binned_Age_Range'].nunique()\n",
    "\n",
    "for i in range(n_class):    \n",
    "    fpr[i], tpr[i], thresh[i] = roc_curve(y_test, prob_RF[:,i], pos_label=i)\n",
    "    \n",
    "# plotting    \n",
    "plt.plot(fpr[0], tpr[0], color='red', label='Class 0 vs Rest')\n",
    "plt.plot(fpr[1], tpr[1], color='orange', label='Class 1 vs Rest')\n",
    "plt.plot(fpr[2], tpr[2], color='blue', label='Class 2 vs Rest')\n",
    "plt.plot(fpr[3], tpr[3], color='cyan', label='Class 3 vs Rest')\n",
    "plt.plot(fpr[4], tpr[4], color='magenta', label='Class 4 vs Rest')\n",
    "plt.plot([0, 1], [0, 1], color='green', linestyle='--')\n",
    "plt.title('Multiclass ROC curve')\n",
    "plt.xlabel('False Positive Rate')\n",
    "plt.ylabel('True Positive rate')\n",
    "plt.legend(loc='best')"
   ]
  },
  {
   "cell_type": "code",
   "execution_count": null,
   "id": "1164317f-3755-422b-9468-ed955091abf0",
   "metadata": {},
   "outputs": [],
   "source": [
    "KNN = KNeighborsClassifier(n_neighbors=3)\n",
    "KNN.fit(X_train, y_train)\n",
    "y_pred = KNN.predict(X_test)\n",
    "\n",
    "# Calculate the overall accuracy on test set \n",
    "\n",
    "print(\"Accuracy on training set: {:.3f}\".format(KNN.score(X_train, y_train)))\n",
    "print(\"Accuracy on test set: {:.3f}\".format(KNN.score(X_test, y_test)))\n",
    "\n",
    "confusion_majority = confusion_matrix(y_test, y_pred)\n",
    "\n",
    "print('Mjority classifier Confusion Matrix\\n', confusion_majority)\n",
    "\n",
    "prob_KNN = KNN.predict_proba(X_test)\n",
    "#prob_KNN = prob_KNN[:, 1]\n",
    "\n",
    "sk_report = classification_report(\n",
    "    digits=6,\n",
    "    y_true=y_test, \n",
    "    y_pred=KNN.predict(X_test))\n",
    "print(sk_report)"
   ]
  },
  {
   "cell_type": "code",
   "execution_count": null,
   "id": "4109c050-afdd-43f3-82d4-b1987a334816",
   "metadata": {},
   "outputs": [],
   "source": [
    "fpr = {}\n",
    "tpr = {}\n",
    "thresh ={}\n",
    "n_class = new_df1['Binned_Age_Range'].nunique()\n",
    "\n",
    "for i in range(n_class):    \n",
    "    fpr[i], tpr[i], thresh[i] = roc_curve(y_test, prob_KNN[:,i], pos_label=i)\n",
    "    \n",
    "# plotting    \n",
    "plt.plot(fpr[0], tpr[0], color='red', label='Class 0 vs Rest')\n",
    "plt.plot(fpr[1], tpr[1], color='orange', label='Class 1 vs Rest')\n",
    "plt.plot(fpr[2], tpr[2], color='blue', label='Class 2 vs Rest')\n",
    "plt.plot(fpr[3], tpr[3], color='cyan', label='Class 3 vs Rest')\n",
    "plt.plot(fpr[4], tpr[4], color='magenta', label='Class 4 vs Rest')\n",
    "plt.plot([0, 1], [0, 1], color='green', linestyle='--')\n",
    "plt.title('Multiclass ROC curve')\n",
    "plt.xlabel('False Positive Rate')\n",
    "plt.ylabel('True Positive rate')\n",
    "plt.legend(loc='best')"
   ]
  },
  {
   "cell_type": "markdown",
   "id": "aa03ce67-a923-4291-8589-c6ae71eb3b75",
   "metadata": {},
   "source": [
    "### SMOTE"
   ]
  },
  {
   "cell_type": "code",
   "execution_count": null,
   "id": "5d4ca781-b480-4893-9a78-85b7a46dca7d",
   "metadata": {},
   "outputs": [],
   "source": [
    "os = SMOTE(random_state=0)\n",
    "X_train, X_test, y_train, y_test = train_test_split(X1, y1.values.ravel(), test_size=0.4, random_state=10)\n",
    "columns = X_train.columns\n",
    "os_data_X, os_data_y = os.fit_resample(X_train, y_train)\n",
    "os_data_X = pd.DataFrame(data=os_data_X, columns=columns)\n",
    "os_data_y = pd.DataFrame(data=os_data_y, columns=['Binned_Age_Range'])\n",
    "\n",
    "# we can Check the numbers of our data\n",
    "print(\"length of oversampled data is \",len(os_data_X))\n",
    "print(\"Number of 0 in oversampled data\",len(os_data_y[os_data_y['Binned_Age_Range']==0]))\n",
    "print(\"Number of 1\",len(os_data_y[os_data_y['Binned_Age_Range']==1]))\n",
    "print(\"Number of 2\",len(os_data_y[os_data_y['Binned_Age_Range']==2]))\n",
    "print(\"Number of 3\",len(os_data_y[os_data_y['Binned_Age_Range']==3]))\n",
    "print(\"Number of 4\",len(os_data_y[os_data_y['Binned_Age_Range']==4]))\n",
    "print(\"Proportion of 0 data in oversampled data is \",len(os_data_y[os_data_y['Binned_Age_Range']==0])/len(os_data_X))\n",
    "print(\"Proportion of 1 data in oversampled data is \",len(os_data_y[os_data_y['Binned_Age_Range']==1])/len(os_data_X))\n",
    "print(\"Proportion of 2 data in oversampled data is \",len(os_data_y[os_data_y['Binned_Age_Range']==2])/len(os_data_X))\n",
    "print(\"Proportion of 3 data in oversampled data is \",len(os_data_y[os_data_y['Binned_Age_Range']==3])/len(os_data_X))\n",
    "print(\"Proportion of 4 data in oversampled data is \",len(os_data_y[os_data_y['Binned_Age_Range']==4])/len(os_data_X))"
   ]
  },
  {
   "cell_type": "code",
   "execution_count": null,
   "id": "d726a3cb-cb06-4e56-ab9d-3540c174b124",
   "metadata": {},
   "outputs": [],
   "source": [
    "X_train, X_test, y_train, y_test = train_test_split(os_data_X, os_data_y, test_size=0.4, random_state=10)"
   ]
  },
  {
   "cell_type": "code",
   "execution_count": null,
   "id": "bfcfa9b1-9333-4f16-969e-05051e3265c9",
   "metadata": {},
   "outputs": [],
   "source": [
    "from sklearn.metrics import classification_report\n",
    "from sklearn.datasets import make_classification\n",
    "nb = GaussianNB()\n",
    "nb.fit(X_train, y_train)\n",
    "y_pred = nb.predict(X_test)\n",
    "\n",
    "# Calculate the overall accuracy on test set \n",
    "\n",
    "print(\"Accuracy on training set: {:.3f}\".format(nb.score(X_train, y_train)))\n",
    "print(\"Accuracy on test set: {:.3f}\".format(nb.score(X_test, y_test)))\n",
    "\n",
    "confusion_majority = confusion_matrix(y_test, y_pred)\n",
    "\n",
    "print('Mjority classifier Confusion Matrix\\n', confusion_majority)\n",
    "\n",
    "prob_NB = nb.predict_proba(X_test)\n",
    "#prob_NB = prob_NB[:, 1]\n",
    "\n",
    "sk_report = classification_report(\n",
    "    digits=6,\n",
    "    y_true=y_test, \n",
    "    y_pred=nb.predict(X_test))\n",
    "print(sk_report)\n",
    "\n",
    "auc_NB = roc_auc_score(y_test, prob_NB, multi_class='ovr')\n",
    "print('AUC: %.2f' % auc_NB)"
   ]
  },
  {
   "cell_type": "code",
   "execution_count": null,
   "id": "76d3f775-87f1-4558-ac0e-f09a1b4e3ff9",
   "metadata": {},
   "outputs": [],
   "source": [
    "fpr = {}\n",
    "tpr = {}\n",
    "thresh ={}\n",
    "n_class = new_df1['Binned_Age_Range'].nunique()\n",
    "\n",
    "for i in range(n_class):    \n",
    "    fpr[i], tpr[i], thresh[i] = roc_curve(y_test, prob_NB[:,i], pos_label=i)\n",
    "    \n",
    "# plotting    \n",
    "plt.plot(fpr[0], tpr[0], color='red', label='Class 0 vs Rest')\n",
    "plt.plot(fpr[1], tpr[1], color='orange', label='Class 1 vs Rest')\n",
    "plt.plot(fpr[2], tpr[2], color='blue', label='Class 2 vs Rest')\n",
    "plt.plot(fpr[3], tpr[3], color='cyan', label='Class 3 vs Rest')\n",
    "plt.plot(fpr[4], tpr[4], color='magenta', label='Class 4 vs Rest')\n",
    "plt.plot([0, 1], [0, 1], color='green', linestyle='--')\n",
    "plt.title('Multiclass ROC curve')\n",
    "plt.xlabel('False Positive Rate')\n",
    "plt.ylabel('True Positive rate')\n",
    "plt.legend(loc='best')"
   ]
  },
  {
   "cell_type": "code",
   "execution_count": null,
   "id": "5456060f-d1ec-4ecf-bf73-b42d9bf040a3",
   "metadata": {},
   "outputs": [],
   "source": [
    "rf = RandomForestClassifier(random_state=1, n_estimators=1000, max_depth=5)\n",
    "rf.fit(X_train, y_train)\n",
    "y_pred = rf.predict(X_test)\n",
    "\n",
    "# Calculate the overall accuracy on test set \n",
    "\n",
    "print(\"Accuracy on training set: {:.3f}\".format(rf.score(X_train, y_train)))\n",
    "print(\"Accuracy on test set: {:.3f}\".format(rf.score(X_test, y_test)))\n",
    "\n",
    "confusion_majority = confusion_matrix(y_test, y_pred)\n",
    "\n",
    "print('Mjority classifier Confusion Matrix\\n', confusion_majority)\n",
    "\n",
    "prob_RF = rf.predict_proba(X_test)\n",
    "#prob_RF = prob_RF[:, 1]\n",
    "\n",
    "sk_report = classification_report(\n",
    "    digits=6,\n",
    "    y_true=y_test, \n",
    "    y_pred=rf.predict(X_test))\n",
    "print(sk_report)"
   ]
  },
  {
   "cell_type": "code",
   "execution_count": null,
   "id": "a5ae6b23-045b-45a7-99b6-416c0e9ae5db",
   "metadata": {},
   "outputs": [],
   "source": [
    "fpr = {}\n",
    "tpr = {}\n",
    "thresh ={}\n",
    "n_class = new_df1['Binned_Age_Range'].nunique()\n",
    "\n",
    "for i in range(n_class):    \n",
    "    fpr[i], tpr[i], thresh[i] = roc_curve(y_test, prob_RF[:,i], pos_label=i)\n",
    "    \n",
    "# plotting    \n",
    "plt.plot(fpr[0], tpr[0], color='red', label='Class 0 vs Rest')\n",
    "plt.plot(fpr[1], tpr[1], color='orange', label='Class 1 vs Rest')\n",
    "plt.plot(fpr[2], tpr[2], color='blue', label='Class 2 vs Rest')\n",
    "plt.plot(fpr[3], tpr[3], color='cyan', label='Class 3 vs Rest')\n",
    "plt.plot(fpr[4], tpr[4], color='magenta', label='Class 4 vs Rest')\n",
    "plt.plot([0, 1], [0, 1], color='green', linestyle='--')\n",
    "plt.title('Multiclass ROC curve')\n",
    "plt.xlabel('False Positive Rate')\n",
    "plt.ylabel('True Positive rate')\n",
    "plt.legend(loc='best')"
   ]
  },
  {
   "cell_type": "code",
   "execution_count": null,
   "id": "cc07832a-da17-4df9-8696-c8a1f80e826c",
   "metadata": {},
   "outputs": [],
   "source": [
    "KNN = KNeighborsClassifier(n_neighbors=3)\n",
    "KNN.fit(X_train, y_train)\n",
    "y_pred = KNN.predict(X_test)\n",
    "\n",
    "# Calculate the overall accuracy on test set \n",
    "\n",
    "print(\"Accuracy on training set: {:.3f}\".format(KNN.score(X_train, y_train)))\n",
    "print(\"Accuracy on test set: {:.3f}\".format(KNN.score(X_test, y_test)))\n",
    "\n",
    "confusion_majority = confusion_matrix(y_test, y_pred)\n",
    "\n",
    "print('Mjority classifier Confusion Matrix\\n', confusion_majority)\n",
    "\n",
    "prob_KNN = KNN.predict_proba(X_test)\n",
    "#prob_KNN = prob_KNN[:, 1]\n",
    "\n",
    "sk_report = classification_report(\n",
    "    digits=6,\n",
    "    y_true=y_test, \n",
    "    y_pred=KNN.predict(X_test))\n",
    "print(sk_report)"
   ]
  },
  {
   "cell_type": "code",
   "execution_count": null,
   "id": "b0a145fb-5e3e-4ebd-86e0-53229c3e4193",
   "metadata": {},
   "outputs": [],
   "source": [
    "fpr = {}\n",
    "tpr = {}\n",
    "thresh ={}\n",
    "n_class = new_df1['Binned_Age_Range'].nunique()\n",
    "\n",
    "for i in range(n_class):    \n",
    "    fpr[i], tpr[i], thresh[i] = roc_curve(y_test, prob_KNN[:,i], pos_label=i)\n",
    "    \n",
    "# plotting    \n",
    "plt.plot(fpr[0], tpr[0], color='red', label='Class 0 vs Rest')\n",
    "plt.plot(fpr[1], tpr[1], color='orange', label='Class 1 vs Rest')\n",
    "plt.plot(fpr[2], tpr[2], color='blue', label='Class 2 vs Rest')\n",
    "plt.plot(fpr[3], tpr[3], color='cyan', label='Class 3 vs Rest')\n",
    "plt.plot(fpr[4], tpr[4], color='magenta', label='Class 4 vs Rest')\n",
    "plt.plot([0, 1], [0, 1], color='green', linestyle='--')\n",
    "plt.title('Multiclass ROC curve')\n",
    "plt.xlabel('False Positive Rate')\n",
    "plt.ylabel('True Positive rate')\n",
    "plt.legend(loc='best')"
   ]
  },
  {
   "cell_type": "markdown",
   "id": "41f156f7-9b1e-4c14-8611-3b1acb7d6195",
   "metadata": {},
   "source": [
    "### Regression for Age Range"
   ]
  },
  {
   "cell_type": "code",
   "execution_count": null,
   "id": "cf2918d7-0a1d-4c3b-9520-79905ef6044b",
   "metadata": {},
   "outputs": [],
   "source": [
    "X_train, X_test, y_train, y_test = train_test_split(X2, y2, test_size = 0.2, random_state = 10) "
   ]
  },
  {
   "cell_type": "code",
   "execution_count": null,
   "id": "29ce654c-8683-4403-bb2c-f24b76927e86",
   "metadata": {},
   "outputs": [],
   "source": [
    "from sklearn.svm import SVR\n",
    "from sklearn.metrics import mean_absolute_error\n",
    "from sklearn.metrics import mean_squared_error\n",
    "regressor = SVR(kernel = 'rbf')\n",
    "\n",
    "regressor.fit(X_train, y_train)\n",
    "y_pred = regressor.predict(X_test)\n",
    "\n",
    "print(\"Accuracy on training set: {:.3f}\".format(regressor.score(X_train, y_train)))\n",
    "\n",
    "print(mean_absolute_error(y_test, y_pred))\n",
    "print(mean_squared_error(y_test, y_pred))"
   ]
  },
  {
   "cell_type": "code",
   "execution_count": null,
   "id": "8777ed4d-616a-40b4-8b0d-3863307f8913",
   "metadata": {},
   "outputs": [],
   "source": [
    "sns.regplot(y_test, y_pred, data=new_df1)"
   ]
  },
  {
   "cell_type": "code",
   "execution_count": null,
   "id": "8ed76786-3ea5-4798-b84e-8a3b92f436ce",
   "metadata": {},
   "outputs": [],
   "source": [
    "from sklearn.tree import DecisionTreeRegressor"
   ]
  },
  {
   "cell_type": "code",
   "execution_count": null,
   "id": "9938bbf5-44c0-4656-9c74-49c954e9577b",
   "metadata": {},
   "outputs": [],
   "source": [
    "dtr1 = DecisionTreeRegressor(max_depth=7)\n",
    "dtr1.fit(X_train, y_train)"
   ]
  },
  {
   "cell_type": "code",
   "execution_count": null,
   "id": "2ada2572-33a3-4572-b7bb-cc30a0825d5e",
   "metadata": {},
   "outputs": [],
   "source": [
    "drt_y_pred = dtr1.predict(X_test)\n",
    "print(\"Accuracy on training set: {:.3f}\".format(dtr1.score(X_train, y_train)))\n",
    "\n",
    "print(mean_absolute_error(y_test, drt_y_pred))\n",
    "print(mean_squared_error(y_test, drt_y_pred))"
   ]
  },
  {
   "cell_type": "code",
   "execution_count": null,
   "id": "4f04f5a1-53b0-4520-98bb-fefdbf8ddc03",
   "metadata": {},
   "outputs": [],
   "source": [
    "depth = 30\n",
    "max_depth = [i for i in range(1,depth+1)] \n",
    "dtr_mae = [] \n",
    "for i in range(1,depth+1):\n",
    "    dtr = DecisionTreeRegressor(max_depth=i)\n",
    "    dtr.fit(X_train, y_train)\n",
    "    dtr_y_pred = dtr.predict(X_test)\n",
    "    dtr_mae.append(mean_absolute_error(y_test, dtr_y_pred))\n",
    "    \n",
    "plt.plot(max_depth, dtr_mae)\n",
    "plt.xlabel('max_depth')\n",
    "plt.ylabel('MAE')\n",
    "plt.title('max_depth vs MAE')   \n",
    "plt.show()"
   ]
  },
  {
   "cell_type": "markdown",
   "id": "f531dbc9-7e2d-498e-ba95-cbbc33580c0c",
   "metadata": {},
   "source": [
    "# Neural Net (Age Range - Binned)"
   ]
  },
  {
   "cell_type": "code",
   "execution_count": null,
   "id": "162153b0-d673-4cac-8de5-cf9feb60a32f",
   "metadata": {},
   "outputs": [],
   "source": [
    "from keras.models import Sequential\n",
    "from keras.layers import Dense\n",
    "from keras.callbacks import EarlyStopping\n",
    "\n",
    "from tensorflow.keras.utils import to_categorical\n",
    "from iteration_utilities import deepflatten"
   ]
  },
  {
   "cell_type": "code",
   "execution_count": null,
   "id": "70be5520-d50b-400c-a485-91f72c58bc7d",
   "metadata": {},
   "outputs": [],
   "source": [
    "from sklearn.preprocessing import StandardScaler\n",
    "sc = StandardScaler()\n",
    "X_ss = sc.fit_transform(X1)\n",
    "print(X_ss)"
   ]
  },
  {
   "cell_type": "code",
   "execution_count": null,
   "id": "4b0de0cd-5171-4909-8580-0114f3e9a6e2",
   "metadata": {},
   "outputs": [],
   "source": [
    "y_one_hot = to_categorical(y1)\n",
    " \n",
    "# Show the category label after one-hot encoding\n",
    "print('Original label 0 : ', y1[0])\n",
    "print('After conversion to categorical ( one-hot ) : ', y_one_hot[0])"
   ]
  },
  {
   "cell_type": "code",
   "execution_count": null,
   "id": "e947da75-3f32-4db7-9661-124b5b7ab25f",
   "metadata": {},
   "outputs": [],
   "source": [
    "unique, counts = np.unique(y, return_counts=True)\n",
    "dict(zip(unique, counts))"
   ]
  },
  {
   "cell_type": "code",
   "execution_count": null,
   "id": "61bf35ca-d7a9-4109-ab59-f2266f43010c",
   "metadata": {},
   "outputs": [],
   "source": [
    "X_train,X_test,y_train,y_test = train_test_split(X_ss, y_one_hot, test_size = 0.1, shuffle= True)"
   ]
  },
  {
   "cell_type": "code",
   "execution_count": null,
   "id": "6ae16e29-79f5-43e1-86e2-14100bfdc085",
   "metadata": {},
   "outputs": [],
   "source": [
    "model = Sequential()\n",
    "model.add(Dense(64, input_dim=21, activation='relu'))\n",
    "model.add(Dense(8, activation = \"relu\"))\n",
    "model.add(Dense(5, activation='softmax'))"
   ]
  },
  {
   "cell_type": "code",
   "execution_count": null,
   "id": "d6d11c59-7347-441d-b53b-f33a24c7a443",
   "metadata": {},
   "outputs": [],
   "source": [
    "model.compile(loss='categorical_crossentropy', optimizer='sgd', metrics=['accuracy'])"
   ]
  },
  {
   "cell_type": "code",
   "execution_count": null,
   "id": "4f504396-5211-4f21-b79b-0218164a1bce",
   "metadata": {},
   "outputs": [],
   "source": [
    "model.summary()"
   ]
  },
  {
   "cell_type": "code",
   "execution_count": null,
   "id": "f1b0024d-da4e-4ed1-81cf-c7049cfb8314",
   "metadata": {},
   "outputs": [],
   "source": [
    "history = model.fit(X_train, y_train,validation_data = (X_test,y_test), epochs=200, batch_size=64)"
   ]
  },
  {
   "cell_type": "code",
   "execution_count": null,
   "id": "2aa9d8f4-4bd4-45e7-8be1-c0fa885deff4",
   "metadata": {},
   "outputs": [],
   "source": [
    "plt.plot(history.history['accuracy'])\n",
    "plt.plot(history.history['val_accuracy'])\n",
    "plt.title('Model accuracy')\n",
    "plt.ylabel('Accuracy')\n",
    "plt.xlabel('Epoch')\n",
    "plt.legend(['Train', 'Test'], loc='upper left')\n",
    "plt.show()"
   ]
  },
  {
   "cell_type": "code",
   "execution_count": null,
   "id": "1364e7ea-439c-4894-98c4-538f90c72c7d",
   "metadata": {},
   "outputs": [],
   "source": [
    "plt.plot(history.history['loss'])\n",
    "plt.plot(history.history['val_loss'])\n",
    "plt.title('Model loss')\n",
    "plt.ylabel('Loss')\n",
    "plt.xlabel('Epoch')\n",
    "plt.legend(['Train', 'Test'], loc='upper left')\n",
    "plt.show()"
   ]
  },
  {
   "cell_type": "markdown",
   "id": "05079b48-2a72-4f2f-91c7-f096127746fd",
   "metadata": {},
   "source": [
    "### Neural Net (Number of buckets)"
   ]
  },
  {
   "cell_type": "code",
   "execution_count": null,
   "id": "8bb7f55a-d629-48ea-9794-012b80e57647",
   "metadata": {},
   "outputs": [],
   "source": [
    "sc = StandardScaler()\n",
    "X_ss = sc.fit_transform(X)\n",
    "print(X_ss)"
   ]
  },
  {
   "cell_type": "code",
   "execution_count": null,
   "id": "90805308-cd84-4222-9af1-add26b29d76b",
   "metadata": {},
   "outputs": [],
   "source": [
    "y_one_hot = to_categorical(y)\n",
    " \n",
    "# Show the category label after one-hot encoding\n",
    "print('Original label 0 : ', y[0])\n",
    "print('After conversion to categorical ( one-hot ) : ', y_one_hot[0])"
   ]
  },
  {
   "cell_type": "code",
   "execution_count": null,
   "id": "f2585fc6-85cb-4569-819d-28b24572b818",
   "metadata": {},
   "outputs": [],
   "source": [
    "unique, counts = np.unique(y, return_counts=True)\n",
    "dict(zip(unique, counts))"
   ]
  },
  {
   "cell_type": "code",
   "execution_count": null,
   "id": "867e30ff-9fe5-4b09-a094-da3aaa38280b",
   "metadata": {},
   "outputs": [],
   "source": [
    "X_train,X_test,y_train,y_test = train_test_split(X_ss, y_one_hot, test_size = 0.1, shuffle= True)"
   ]
  },
  {
   "cell_type": "code",
   "execution_count": null,
   "id": "e26a8302-12f6-4232-b898-7ad08e7945d9",
   "metadata": {},
   "outputs": [],
   "source": [
    "model = Sequential()\n",
    "model.add(Dense(8, input_dim=21, activation='relu'))\n",
    "model.add(Dense(8, activation = \"relu\"))\n",
    "model.add(Dense(3, activation='softmax'))"
   ]
  },
  {
   "cell_type": "code",
   "execution_count": null,
   "id": "0c757848-b9e1-40eb-81ac-28f7ff5e50f3",
   "metadata": {},
   "outputs": [],
   "source": [
    "model.compile(loss='categorical_crossentropy', optimizer='sgd', metrics=['accuracy'])"
   ]
  },
  {
   "cell_type": "code",
   "execution_count": null,
   "id": "03230898-e65f-49f7-851d-8c206f11c197",
   "metadata": {},
   "outputs": [],
   "source": [
    "model.summary()"
   ]
  },
  {
   "cell_type": "code",
   "execution_count": null,
   "id": "9289ff1b-1fed-4656-bce3-b98176b48ece",
   "metadata": {},
   "outputs": [],
   "source": [
    "history = model.fit(X_train, y_train,validation_data = (X_test,y_test), epochs=200, batch_size=64)"
   ]
  },
  {
   "cell_type": "code",
   "execution_count": null,
   "id": "c4b36224-f506-4154-8d44-bad6be527be6",
   "metadata": {},
   "outputs": [],
   "source": [
    "plt.plot(history.history['accuracy'])\n",
    "plt.plot(history.history['val_accuracy'])\n",
    "plt.title('Model accuracy')\n",
    "plt.ylabel('Accuracy')\n",
    "plt.xlabel('Epoch')\n",
    "plt.legend(['Train', 'Test'], loc='upper left')\n",
    "plt.show()"
   ]
  },
  {
   "cell_type": "code",
   "execution_count": null,
   "id": "fe09ffaf-e39c-4b10-99b4-5a5ed2c41c6e",
   "metadata": {},
   "outputs": [],
   "source": [
    "plt.plot(history.history['loss'])\n",
    "plt.plot(history.history['val_loss'])\n",
    "plt.title('Model loss')\n",
    "plt.ylabel('Loss')\n",
    "plt.xlabel('Epoch')\n",
    "plt.legend(['Train', 'Test'], loc='upper left')\n",
    "plt.show()"
   ]
  },
  {
   "cell_type": "code",
   "execution_count": null,
   "id": "1e511ada-b490-49d0-8458-462d6798cfa7",
   "metadata": {},
   "outputs": [],
   "source": []
  }
 ],
 "metadata": {
  "kernelspec": {
   "display_name": "Python 3 (ipykernel)",
   "language": "python",
   "name": "python3"
  },
  "language_info": {
   "codemirror_mode": {
    "name": "ipython",
    "version": 3
   },
   "file_extension": ".py",
   "mimetype": "text/x-python",
   "name": "python",
   "nbconvert_exporter": "python",
   "pygments_lexer": "ipython3",
   "version": "3.9.7"
  }
 },
 "nbformat": 4,
 "nbformat_minor": 5
}
